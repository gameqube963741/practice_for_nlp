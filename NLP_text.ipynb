{
  "nbformat": 4,
  "nbformat_minor": 0,
  "metadata": {
    "colab": {
      "name": "NLP_text.ipynb",
      "provenance": [],
      "collapsed_sections": [],
      "authorship_tag": "ABX9TyNhJzwh+KnD4uXhzmnNppOE",
      "include_colab_link": true
    },
    "kernelspec": {
      "name": "python3",
      "display_name": "Python 3"
    }
  },
  "cells": [
    {
      "cell_type": "markdown",
      "metadata": {
        "id": "view-in-github",
        "colab_type": "text"
      },
      "source": [
        "<a href=\"https://colab.research.google.com/github/gameqube963741/practice_for_nlp/blob/master/NLP_text.ipynb\" target=\"_parent\"><img src=\"https://colab.research.google.com/assets/colab-badge.svg\" alt=\"Open In Colab\"/></a>"
      ]
    },
    {
      "cell_type": "code",
      "metadata": {
        "id": "Q4U1kiSRJCCM"
      },
      "source": [
        "news = '''\n",
        "台灣米其林與 PChome 雙領導品牌聯手開發了全台首個「一鍵式輪胎電商銷售機制」，即將讓 O2O 購胎平台進入真正的「全自動時代」。\n",
        "PChome「米其林馳加旗艦館」於 2019 年中正式上線，台灣米其林隨即啟動蒐集廣大用戶的意見，並從中了解到電商消費者在網上購買輪胎時，除了價格外，更重視購胎操作的便利性與時間安排的彈性。根據調查，在現今的電商購胎環境下，消費者仍須按地區前往相對應賣場購買輪胎，並等候客服人員聯絡，方能預約安裝時間。一來一往的流程降低了電商購胎的操作便利性與購買友善度。因此，台灣米其林與 PChome 聯手，推出全新一鍵式輪胎電商銷售機制。\n",
        "PChome「米其林馳加旗艦館」將於 2020 年 10 月 1 日正式導入一鍵式銷售機制，全面轉換為真正的全自動 O2O 賣場，成為全台首個提供一鍵式購胎服務的電商平台。消費者於 PChome「米其林馳加旗艦館」購買輪胎時，僅須決定欲購買的胎款並選擇安裝店家與期望安裝時段，系統將自動配對資訊、完成預約，且透過簡訊發送確認訊息。全部購胎流程在同一頁面，一鍵完成，消費者無須被動等待客服人員聯絡，或擔心因為忙碌漏接電話。\n",
        "除了推出全新電商銷售機制外，PChome「米其林馳加旗艦館」也同步祭出 10 月限量購胎折扣以及限定商品的好康優惠。10 月期間，購買精選胎款 Energy Saver 4 或 Pilot Sport 4 指定規格 4 入組（Energy Saver 4 185/55 R16；Pilot Sport 4 215/55 R17）就有機會享 95 折好康優惠，限量十組，要買要快。此外，10 月 1 日至 10 月 25 日，購買輪胎 4 入組（不含輕卡胎）即可將米其林寶寶限量版玩偶帶回家；剛發布的《臺北臺中米其林指南 2020》現在更有機會以獨家珍藏價 650 元購得。限量 11 組優惠價。\n",
        "'''"
      ],
      "execution_count": 1,
      "outputs": []
    },
    {
      "cell_type": "markdown",
      "metadata": {
        "id": "2AGrvEB2QzUU"
      },
      "source": [
        "# 正規表達法斷句"
      ]
    },
    {
      "cell_type": "code",
      "metadata": {
        "id": "Fc_aTXPYJKJL",
        "outputId": "9f3ee3ec-6357-43b8-e514-e19de1a3d38f",
        "colab": {
          "base_uri": "https://localhost:8080/",
          "height": 680
        }
      },
      "source": [
        "import re\n",
        "re.split('，|：|、|「|」',news)"
      ],
      "execution_count": 2,
      "outputs": [
        {
          "output_type": "execute_result",
          "data": {
            "text/plain": [
              "['\\n台灣米其林與 PChome 雙領導品牌聯手開發了全台首個',\n",
              " '一鍵式輪胎電商銷售機制',\n",
              " '',\n",
              " '即將讓 O2O 購胎平台進入真正的',\n",
              " '全自動時代',\n",
              " '。\\nPChome',\n",
              " '米其林馳加旗艦館',\n",
              " '於 2019 年中正式上線',\n",
              " '台灣米其林隨即啟動蒐集廣大用戶的意見',\n",
              " '並從中了解到電商消費者在網上購買輪胎時',\n",
              " '除了價格外',\n",
              " '更重視購胎操作的便利性與時間安排的彈性。根據調查',\n",
              " '在現今的電商購胎環境下',\n",
              " '消費者仍須按地區前往相對應賣場購買輪胎',\n",
              " '並等候客服人員聯絡',\n",
              " '方能預約安裝時間。一來一往的流程降低了電商購胎的操作便利性與購買友善度。因此',\n",
              " '台灣米其林與 PChome 聯手',\n",
              " '推出全新一鍵式輪胎電商銷售機制。\\nPChome',\n",
              " '米其林馳加旗艦館',\n",
              " '將於 2020 年 10 月 1 日正式導入一鍵式銷售機制',\n",
              " '全面轉換為真正的全自動 O2O 賣場',\n",
              " '成為全台首個提供一鍵式購胎服務的電商平台。消費者於 PChome',\n",
              " '米其林馳加旗艦館',\n",
              " '購買輪胎時',\n",
              " '僅須決定欲購買的胎款並選擇安裝店家與期望安裝時段',\n",
              " '系統將自動配對資訊',\n",
              " '完成預約',\n",
              " '且透過簡訊發送確認訊息。全部購胎流程在同一頁面',\n",
              " '一鍵完成',\n",
              " '消費者無須被動等待客服人員聯絡',\n",
              " '或擔心因為忙碌漏接電話。\\n除了推出全新電商銷售機制外',\n",
              " 'PChome',\n",
              " '米其林馳加旗艦館',\n",
              " '也同步祭出 10 月限量購胎折扣以及限定商品的好康優惠。10 月期間',\n",
              " '購買精選胎款 Energy Saver 4 或 Pilot Sport 4 指定規格 4 入組（Energy Saver 4 185/55 R16；Pilot Sport 4 215/55 R17）就有機會享 95 折好康優惠',\n",
              " '限量十組',\n",
              " '要買要快。此外',\n",
              " '10 月 1 日至 10 月 25 日',\n",
              " '購買輪胎 4 入組（不含輕卡胎）即可將米其林寶寶限量版玩偶帶回家；剛發布的《臺北臺中米其林指南 2020》現在更有機會以獨家珍藏價 650 元購得。限量 11 組優惠價。\\n']"
            ]
          },
          "metadata": {
            "tags": []
          },
          "execution_count": 2
        }
      ]
    },
    {
      "cell_type": "markdown",
      "metadata": {
        "id": "eJB7YLJ4P7B4"
      },
      "source": [
        "# 安裝 jieba 套件"
      ]
    },
    {
      "cell_type": "code",
      "metadata": {
        "id": "mHtB2dIMQYAn"
      },
      "source": [
        "# ! pipenv/pip install jieba"
      ],
      "execution_count": 3,
      "outputs": []
    },
    {
      "cell_type": "code",
      "metadata": {
        "id": "BVmg-6zaJLAp"
      },
      "source": [
        "import jieba\n",
        "s = \"大巨蛋案對市府同仁下封口令？　柯P否認\"\n",
        "seg = jieba.cut(s)"
      ],
      "execution_count": 4,
      "outputs": []
    },
    {
      "cell_type": "code",
      "metadata": {
        "id": "bXVYP2MjJPST",
        "outputId": "0148c28e-dd2e-4bb2-f070-011f37770b48",
        "colab": {
          "base_uri": "https://localhost:8080/",
          "height": 34
        }
      },
      "source": [
        "seg"
      ],
      "execution_count": 5,
      "outputs": [
        {
          "output_type": "execute_result",
          "data": {
            "text/plain": [
              "<generator object Tokenizer.cut at 0x7efd356a24c0>"
            ]
          },
          "metadata": {
            "tags": []
          },
          "execution_count": 5
        }
      ]
    },
    {
      "cell_type": "code",
      "metadata": {
        "id": "c7Bgk7cZJRYs",
        "outputId": "fdcb4b9d-9068-454b-e6ac-4e1dbc2a2045",
        "colab": {
          "base_uri": "https://localhost:8080/",
          "height": 102
        }
      },
      "source": [
        "list(seg)"
      ],
      "execution_count": 6,
      "outputs": [
        {
          "output_type": "stream",
          "text": [
            "Building prefix dict from the default dictionary ...\n",
            "Loading model from cache /tmp/jieba.cache\n",
            "Loading model cost 0.853 seconds.\n",
            "Prefix dict has been built successfully.\n"
          ],
          "name": "stderr"
        },
        {
          "output_type": "execute_result",
          "data": {
            "text/plain": [
              "['大', '巨蛋', '案對', '市府', '同仁', '下', '封口令', '？', '\\u3000', '柯', 'P', '否認']"
            ]
          },
          "metadata": {
            "tags": []
          },
          "execution_count": 6
        }
      ]
    },
    {
      "cell_type": "code",
      "metadata": {
        "id": "gy_S12hfJVqJ",
        "outputId": "81fa2d08-1f29-4fc8-b338-84d6370649df",
        "colab": {
          "base_uri": "https://localhost:8080/",
          "height": 34
        }
      },
      "source": [
        "import jieba\n",
        "s = \"大巨蛋案對市府同仁下封口令？　柯P否認\"\n",
        "# 全模式\n",
        "seg = jieba.cut(s, cut_all=True)\n",
        "print(list(seg))"
      ],
      "execution_count": 7,
      "outputs": [
        {
          "output_type": "stream",
          "text": [
            "['大', '巨蛋', '案', '對', '市府', '同仁', '下', '封口', '封口令', '口令', '？', '\\u3000', '', '柯', 'P', '否', '認']\n"
          ],
          "name": "stdout"
        }
      ]
    },
    {
      "cell_type": "markdown",
      "metadata": {
        "id": "Db8mu9Z5RBpy"
      },
      "source": [
        "# 處理英文資料 (NLTK)"
      ]
    },
    {
      "cell_type": "code",
      "metadata": {
        "id": "UV0lq4UfRAw0",
        "outputId": "d64ba468-6ae2-4c88-c67e-05e76abfecf2",
        "colab": {
          "base_uri": "https://localhost:8080/",
          "height": 51
        }
      },
      "source": [
        "#!pipenv/pip install nltk\n",
        "!pip install nltk"
      ],
      "execution_count": 8,
      "outputs": [
        {
          "output_type": "stream",
          "text": [
            "Requirement already satisfied: nltk in /usr/local/lib/python3.6/dist-packages (3.2.5)\n",
            "Requirement already satisfied: six in /usr/local/lib/python3.6/dist-packages (from nltk) (1.15.0)\n"
          ],
          "name": "stdout"
        }
      ]
    },
    {
      "cell_type": "code",
      "metadata": {
        "id": "nMQJFH1mRO9K",
        "outputId": "38a3e892-ff3b-451b-a180-8ba6fd07d2bc",
        "colab": {
          "base_uri": "https://localhost:8080/",
          "height": 255
        }
      },
      "source": [
        "import nltk\n",
        "nltk.download('punkt')\n",
        "sentence = \"At eight o'clock on Thursday morning Arthur didn't feel very good\"\n",
        "tags = nltk.word_tokenize(sentence)\n",
        "tags"
      ],
      "execution_count": 9,
      "outputs": [
        {
          "output_type": "stream",
          "text": [
            "[nltk_data] Downloading package punkt to /root/nltk_data...\n",
            "[nltk_data]   Package punkt is already up-to-date!\n"
          ],
          "name": "stdout"
        },
        {
          "output_type": "execute_result",
          "data": {
            "text/plain": [
              "['At',\n",
              " 'eight',\n",
              " \"o'clock\",\n",
              " 'on',\n",
              " 'Thursday',\n",
              " 'morning',\n",
              " 'Arthur',\n",
              " 'did',\n",
              " \"n't\",\n",
              " 'feel',\n",
              " 'very',\n",
              " 'good']"
            ]
          },
          "metadata": {
            "tags": []
          },
          "execution_count": 9
        }
      ]
    },
    {
      "cell_type": "code",
      "metadata": {
        "id": "SmGsJabURz7a",
        "outputId": "7b0a5d68-9f88-4019-9ef1-75d936aa5f89",
        "colab": {
          "base_uri": "https://localhost:8080/",
          "height": 289
        }
      },
      "source": [
        "nltk.download('averaged_perceptron_tagger')\n",
        "tagged = nltk.pos_tag(tags)\n",
        "tagged"
      ],
      "execution_count": 10,
      "outputs": [
        {
          "output_type": "stream",
          "text": [
            "[nltk_data] Downloading package averaged_perceptron_tagger to\n",
            "[nltk_data]     /root/nltk_data...\n",
            "[nltk_data]   Package averaged_perceptron_tagger is already up-to-\n",
            "[nltk_data]       date!\n"
          ],
          "name": "stdout"
        },
        {
          "output_type": "execute_result",
          "data": {
            "text/plain": [
              "[('At', 'IN'),\n",
              " ('eight', 'CD'),\n",
              " (\"o'clock\", 'NN'),\n",
              " ('on', 'IN'),\n",
              " ('Thursday', 'NNP'),\n",
              " ('morning', 'NN'),\n",
              " ('Arthur', 'NNP'),\n",
              " ('did', 'VBD'),\n",
              " (\"n't\", 'RB'),\n",
              " ('feel', 'VB'),\n",
              " ('very', 'RB'),\n",
              " ('good', 'JJ')]"
            ]
          },
          "metadata": {
            "tags": []
          },
          "execution_count": 10
        }
      ]
    },
    {
      "cell_type": "code",
      "metadata": {
        "id": "j4F8zm0MR6sC",
        "outputId": "841a2ce6-555c-48d4-9ea7-d846b3c4b5ae",
        "colab": {
          "base_uri": "https://localhost:8080/",
          "height": 102
        }
      },
      "source": [
        "import nltk.stem\n",
        "s= nltk.stem.SnowballStemmer('english')\n",
        "print(s.stem(\"graphics\"))\n",
        "\n",
        "print(s.stem(\"imaging\"))\n",
        "print(s.stem(\"image\"))\n",
        "print(s.stem(\"imagination\"))\n",
        "print(s.stem(\"imagine\"))"
      ],
      "execution_count": 11,
      "outputs": [
        {
          "output_type": "stream",
          "text": [
            "graphic\n",
            "imag\n",
            "imag\n",
            "imagin\n",
            "imagin\n"
          ],
          "name": "stdout"
        }
      ]
    },
    {
      "cell_type": "code",
      "metadata": {
        "id": "6xLxxPGPR9kr",
        "outputId": "0e20931a-e22b-4961-c8d8-96d6bdc48702",
        "colab": {
          "base_uri": "https://localhost:8080/",
          "height": 1000
        }
      },
      "source": [
        "from nltk.corpus import stopwords\n",
        "nltk.download('stopwords')\n",
        "sw = stopwords.words('english')\n",
        "sw"
      ],
      "execution_count": 12,
      "outputs": [
        {
          "output_type": "stream",
          "text": [
            "[nltk_data] Downloading package stopwords to /root/nltk_data...\n",
            "[nltk_data]   Package stopwords is already up-to-date!\n"
          ],
          "name": "stdout"
        },
        {
          "output_type": "execute_result",
          "data": {
            "text/plain": [
              "['i',\n",
              " 'me',\n",
              " 'my',\n",
              " 'myself',\n",
              " 'we',\n",
              " 'our',\n",
              " 'ours',\n",
              " 'ourselves',\n",
              " 'you',\n",
              " \"you're\",\n",
              " \"you've\",\n",
              " \"you'll\",\n",
              " \"you'd\",\n",
              " 'your',\n",
              " 'yours',\n",
              " 'yourself',\n",
              " 'yourselves',\n",
              " 'he',\n",
              " 'him',\n",
              " 'his',\n",
              " 'himself',\n",
              " 'she',\n",
              " \"she's\",\n",
              " 'her',\n",
              " 'hers',\n",
              " 'herself',\n",
              " 'it',\n",
              " \"it's\",\n",
              " 'its',\n",
              " 'itself',\n",
              " 'they',\n",
              " 'them',\n",
              " 'their',\n",
              " 'theirs',\n",
              " 'themselves',\n",
              " 'what',\n",
              " 'which',\n",
              " 'who',\n",
              " 'whom',\n",
              " 'this',\n",
              " 'that',\n",
              " \"that'll\",\n",
              " 'these',\n",
              " 'those',\n",
              " 'am',\n",
              " 'is',\n",
              " 'are',\n",
              " 'was',\n",
              " 'were',\n",
              " 'be',\n",
              " 'been',\n",
              " 'being',\n",
              " 'have',\n",
              " 'has',\n",
              " 'had',\n",
              " 'having',\n",
              " 'do',\n",
              " 'does',\n",
              " 'did',\n",
              " 'doing',\n",
              " 'a',\n",
              " 'an',\n",
              " 'the',\n",
              " 'and',\n",
              " 'but',\n",
              " 'if',\n",
              " 'or',\n",
              " 'because',\n",
              " 'as',\n",
              " 'until',\n",
              " 'while',\n",
              " 'of',\n",
              " 'at',\n",
              " 'by',\n",
              " 'for',\n",
              " 'with',\n",
              " 'about',\n",
              " 'against',\n",
              " 'between',\n",
              " 'into',\n",
              " 'through',\n",
              " 'during',\n",
              " 'before',\n",
              " 'after',\n",
              " 'above',\n",
              " 'below',\n",
              " 'to',\n",
              " 'from',\n",
              " 'up',\n",
              " 'down',\n",
              " 'in',\n",
              " 'out',\n",
              " 'on',\n",
              " 'off',\n",
              " 'over',\n",
              " 'under',\n",
              " 'again',\n",
              " 'further',\n",
              " 'then',\n",
              " 'once',\n",
              " 'here',\n",
              " 'there',\n",
              " 'when',\n",
              " 'where',\n",
              " 'why',\n",
              " 'how',\n",
              " 'all',\n",
              " 'any',\n",
              " 'both',\n",
              " 'each',\n",
              " 'few',\n",
              " 'more',\n",
              " 'most',\n",
              " 'other',\n",
              " 'some',\n",
              " 'such',\n",
              " 'no',\n",
              " 'nor',\n",
              " 'not',\n",
              " 'only',\n",
              " 'own',\n",
              " 'same',\n",
              " 'so',\n",
              " 'than',\n",
              " 'too',\n",
              " 'very',\n",
              " 's',\n",
              " 't',\n",
              " 'can',\n",
              " 'will',\n",
              " 'just',\n",
              " 'don',\n",
              " \"don't\",\n",
              " 'should',\n",
              " \"should've\",\n",
              " 'now',\n",
              " 'd',\n",
              " 'll',\n",
              " 'm',\n",
              " 'o',\n",
              " 're',\n",
              " 've',\n",
              " 'y',\n",
              " 'ain',\n",
              " 'aren',\n",
              " \"aren't\",\n",
              " 'couldn',\n",
              " \"couldn't\",\n",
              " 'didn',\n",
              " \"didn't\",\n",
              " 'doesn',\n",
              " \"doesn't\",\n",
              " 'hadn',\n",
              " \"hadn't\",\n",
              " 'hasn',\n",
              " \"hasn't\",\n",
              " 'haven',\n",
              " \"haven't\",\n",
              " 'isn',\n",
              " \"isn't\",\n",
              " 'ma',\n",
              " 'mightn',\n",
              " \"mightn't\",\n",
              " 'mustn',\n",
              " \"mustn't\",\n",
              " 'needn',\n",
              " \"needn't\",\n",
              " 'shan',\n",
              " \"shan't\",\n",
              " 'shouldn',\n",
              " \"shouldn't\",\n",
              " 'wasn',\n",
              " \"wasn't\",\n",
              " 'weren',\n",
              " \"weren't\",\n",
              " 'won',\n",
              " \"won't\",\n",
              " 'wouldn',\n",
              " \"wouldn't\"]"
            ]
          },
          "metadata": {
            "tags": []
          },
          "execution_count": 12
        }
      ]
    },
    {
      "cell_type": "markdown",
      "metadata": {
        "id": "TGgYSmhqSLDD"
      },
      "source": [
        "# 使用Jieba 斷詞"
      ]
    },
    {
      "cell_type": "code",
      "metadata": {
        "id": "HTfen41lSR3T",
        "outputId": "d0d357f1-579d-400f-90e4-8f3a51ef353b",
        "colab": {
          "base_uri": "https://localhost:8080/",
          "height": 34
        }
      },
      "source": [
        "import jieba\n",
        "s = \"大巨蛋案對市府同仁下封口令？　柯P否認\"\n",
        "# 全模式\n",
        "seg = jieba.cut(s, cut_all=True)\n",
        "print(list(seg))"
      ],
      "execution_count": 13,
      "outputs": [
        {
          "output_type": "stream",
          "text": [
            "['大', '巨蛋', '案', '對', '市府', '同仁', '下', '封口', '封口令', '口令', '？', '\\u3000', '', '柯', 'P', '否', '認']\n"
          ],
          "name": "stdout"
        }
      ]
    },
    {
      "cell_type": "code",
      "metadata": {
        "id": "_TIXd7g7N9NB",
        "outputId": "7955127c-6bcb-4725-fac9-3c7a3085570e",
        "colab": {
          "base_uri": "https://localhost:8080/",
          "height": 34
        }
      },
      "source": [
        "# 精準模式\n",
        "seg = jieba.cut(s)\n",
        "print(list(seg))"
      ],
      "execution_count": 14,
      "outputs": [
        {
          "output_type": "stream",
          "text": [
            "['大', '巨蛋', '案對', '市府', '同仁', '下', '封口令', '？', '\\u3000', '柯', 'P', '否認']\n"
          ],
          "name": "stdout"
        }
      ]
    },
    {
      "cell_type": "code",
      "metadata": {
        "id": "b8Dvn4PIN_3f",
        "outputId": "ce5f789e-ecbf-4279-fad8-4db516aef04e",
        "colab": {
          "base_uri": "https://localhost:8080/",
          "height": 34
        }
      },
      "source": [
        "jieba.load_userdict('userdict.txt')\n",
        "seg = jieba.cut(s)\n",
        "print(list(seg))"
      ],
      "execution_count": 15,
      "outputs": [
        {
          "output_type": "stream",
          "text": [
            "['大巨蛋案', '對', '市府同仁', '下', '封口令', '？', '\\u3000', '柯P', '否認']\n"
          ],
          "name": "stdout"
        }
      ]
    },
    {
      "cell_type": "code",
      "metadata": {
        "id": "9_ZpKrLsOCe0"
      },
      "source": [
        "import jieba.posseg as pseg\n",
        "words = pseg.cut(s)"
      ],
      "execution_count": 16,
      "outputs": []
    },
    {
      "cell_type": "code",
      "metadata": {
        "id": "5RZOY4SVoiAP",
        "outputId": "7d94b32d-ba9f-449a-a9e7-da4e29e6276d",
        "colab": {
          "base_uri": "https://localhost:8080/",
          "height": 170
        }
      },
      "source": [
        "list(words)"
      ],
      "execution_count": 17,
      "outputs": [
        {
          "output_type": "execute_result",
          "data": {
            "text/plain": [
              "[pair('大巨蛋案', 'x'),\n",
              " pair('對', 'x'),\n",
              " pair('市府同仁', 'x'),\n",
              " pair('下', 'f'),\n",
              " pair('封口令', 'n'),\n",
              " pair('？', 'x'),\n",
              " pair('\\u3000', 'x'),\n",
              " pair('柯P', 'x'),\n",
              " pair('否認', 'v')]"
            ]
          },
          "metadata": {
            "tags": []
          },
          "execution_count": 17
        }
      ]
    },
    {
      "cell_type": "code",
      "metadata": {
        "id": "XnZtRqcOovZF",
        "outputId": "ca183bf6-2fe4-48e3-83d1-e95831e294ed",
        "colab": {
          "base_uri": "https://localhost:8080/",
          "height": 170
        }
      },
      "source": [
        "words = jieba.tokenize(s)\n",
        "for tw in words:\n",
        "  print(tw[0], tw[1], tw[2])"
      ],
      "execution_count": 18,
      "outputs": [
        {
          "output_type": "stream",
          "text": [
            "大巨蛋案 0 4\n",
            "對 4 5\n",
            "市府同仁 5 9\n",
            "下 9 10\n",
            "封口令 10 13\n",
            "？ 13 14\n",
            "　 14 15\n",
            "柯P 15 17\n",
            "否認 17 19\n"
          ],
          "name": "stdout"
        }
      ]
    },
    {
      "cell_type": "markdown",
      "metadata": {
        "id": "ass9mDXRSXZv"
      },
      "source": [
        "# 使用網路爬蟲抓取自由時報關鍵字"
      ]
    },
    {
      "cell_type": "code",
      "metadata": {
        "id": "7OySOj2MpAFC"
      },
      "source": [
        "import requests\n",
        "from bs4 import BeautifulSoup\n",
        "res = requests.get('https://news.ltn.com.tw/news/life/breakingnews/3308917')\n",
        "soup = BeautifulSoup(res.text, 'lxml')\n",
        "with open('userdict.txt', 'a', encoding='utf-8') as f:\n",
        "    f.write('\\n')\n",
        "    for rec in soup.select('.keyword a'):\n",
        "        f.write(rec.text+'\\n')"
      ],
      "execution_count": 19,
      "outputs": []
    },
    {
      "cell_type": "markdown",
      "metadata": {
        "id": "V9LhKlBlSejm"
      },
      "source": [
        "# 切分n-gram"
      ]
    },
    {
      "cell_type": "code",
      "metadata": {
        "id": "NI6lc_ogp4RX",
        "outputId": "dca1505f-f1bb-4566-b42b-e93cd4a4d802",
        "colab": {
          "base_uri": "https://localhost:8080/",
          "height": 35
        }
      },
      "source": [
        "s = '那我們酸民婉君也可以報名嗎?'\n",
        "s[0:2]"
      ],
      "execution_count": 20,
      "outputs": [
        {
          "output_type": "execute_result",
          "data": {
            "application/vnd.google.colaboratory.intrinsic+json": {
              "type": "string"
            },
            "text/plain": [
              "'那我'"
            ]
          },
          "metadata": {
            "tags": []
          },
          "execution_count": 20
        }
      ]
    },
    {
      "cell_type": "code",
      "metadata": {
        "id": "5v-FVZMeqJEA",
        "outputId": "248b7781-c213-4ec7-e5a8-474029df3617",
        "colab": {
          "base_uri": "https://localhost:8080/",
          "height": 35
        }
      },
      "source": [
        "s[1:3]"
      ],
      "execution_count": 21,
      "outputs": [
        {
          "output_type": "execute_result",
          "data": {
            "application/vnd.google.colaboratory.intrinsic+json": {
              "type": "string"
            },
            "text/plain": [
              "'我們'"
            ]
          },
          "metadata": {
            "tags": []
          },
          "execution_count": 21
        }
      ]
    },
    {
      "cell_type": "code",
      "metadata": {
        "id": "dkxZaH1WqMN0",
        "outputId": "6c109dd8-5478-4c1d-9acf-e6df2bf1d844",
        "colab": {
          "base_uri": "https://localhost:8080/",
          "height": 35
        }
      },
      "source": [
        "s[len(s) - 2: len(s)]"
      ],
      "execution_count": 22,
      "outputs": [
        {
          "output_type": "execute_result",
          "data": {
            "application/vnd.google.colaboratory.intrinsic+json": {
              "type": "string"
            },
            "text/plain": [
              "'嗎?'"
            ]
          },
          "metadata": {
            "tags": []
          },
          "execution_count": 22
        }
      ]
    },
    {
      "cell_type": "code",
      "metadata": {
        "id": "SYH0G7BKqSLG",
        "outputId": "6ab923b5-0ff6-4083-837d-7758f6e04f13",
        "colab": {
          "base_uri": "https://localhost:8080/",
          "height": 238
        }
      },
      "source": [
        "# bi-gram: 2-gram\n",
        "for i in range(0, len(s) - 2 + 1):\n",
        "    print(s[i:i+2])"
      ],
      "execution_count": 23,
      "outputs": [
        {
          "output_type": "stream",
          "text": [
            "那我\n",
            "我們\n",
            "們酸\n",
            "酸民\n",
            "民婉\n",
            "婉君\n",
            "君也\n",
            "也可\n",
            "可以\n",
            "以報\n",
            "報名\n",
            "名嗎\n",
            "嗎?\n"
          ],
          "name": "stdout"
        }
      ]
    },
    {
      "cell_type": "code",
      "metadata": {
        "id": "Ogw30uZCqosM",
        "outputId": "4c26dece-5064-4580-c8d0-c423ccbfdc69",
        "colab": {
          "base_uri": "https://localhost:8080/",
          "height": 221
        }
      },
      "source": [
        "# tri-gram: 3-trim\n",
        "for i in range(0, len(s) - 3 + 1):\n",
        "    print(s[i:i+3])"
      ],
      "execution_count": 24,
      "outputs": [
        {
          "output_type": "stream",
          "text": [
            "那我們\n",
            "我們酸\n",
            "們酸民\n",
            "酸民婉\n",
            "民婉君\n",
            "婉君也\n",
            "君也可\n",
            "也可以\n",
            "可以報\n",
            "以報名\n",
            "報名嗎\n",
            "名嗎?\n"
          ],
          "name": "stdout"
        }
      ]
    },
    {
      "cell_type": "code",
      "metadata": {
        "id": "G3WaYmMJqvJd"
      },
      "source": [
        "def ngram(input_sentence, n = 2):\n",
        "    ret = []\n",
        "    for i in range(0, len(input_sentence) - n + 1):\n",
        "        ret.append(input_sentence[i:i+n])\n",
        "    return ret"
      ],
      "execution_count": 25,
      "outputs": []
    },
    {
      "cell_type": "code",
      "metadata": {
        "id": "I3bhLUnpqxyl",
        "outputId": "2ff34a01-cb70-4035-a059-0b244a4b5a75",
        "colab": {
          "base_uri": "https://localhost:8080/",
          "height": 35
        }
      },
      "source": [
        "s"
      ],
      "execution_count": 26,
      "outputs": [
        {
          "output_type": "execute_result",
          "data": {
            "application/vnd.google.colaboratory.intrinsic+json": {
              "type": "string"
            },
            "text/plain": [
              "'那我們酸民婉君也可以報名嗎?'"
            ]
          },
          "metadata": {
            "tags": []
          },
          "execution_count": 26
        }
      ]
    },
    {
      "cell_type": "code",
      "metadata": {
        "id": "R8DtllP2qzKq",
        "outputId": "adb22128-d284-4021-f7df-603f2fc68e7e",
        "colab": {
          "base_uri": "https://localhost:8080/",
          "height": 34
        }
      },
      "source": [
        "ngram(s, 2)"
      ],
      "execution_count": 27,
      "outputs": [
        {
          "output_type": "execute_result",
          "data": {
            "text/plain": [
              "['那我', '我們', '們酸', '酸民', '民婉', '婉君', '君也', '也可', '可以', '以報', '報名', '名嗎', '嗎?']"
            ]
          },
          "metadata": {
            "tags": []
          },
          "execution_count": 27
        }
      ]
    },
    {
      "cell_type": "code",
      "metadata": {
        "id": "PD9U_BAjq2g5",
        "outputId": "6d710d27-3660-4cab-dcd6-24e81f788352",
        "colab": {
          "base_uri": "https://localhost:8080/",
          "height": 221
        }
      },
      "source": [
        "ngram(s, n = 3)"
      ],
      "execution_count": 28,
      "outputs": [
        {
          "output_type": "execute_result",
          "data": {
            "text/plain": [
              "['那我們',\n",
              " '我們酸',\n",
              " '們酸民',\n",
              " '酸民婉',\n",
              " '民婉君',\n",
              " '婉君也',\n",
              " '君也可',\n",
              " '也可以',\n",
              " '可以報',\n",
              " '以報名',\n",
              " '報名嗎',\n",
              " '名嗎?']"
            ]
          },
          "metadata": {
            "tags": []
          },
          "execution_count": 28
        }
      ]
    },
    {
      "cell_type": "code",
      "metadata": {
        "id": "nEpTusu8q69l"
      },
      "source": [
        "news = '''\n",
        "釩泰研究創新公司違法委託未領有製造醫療用口罩許可證的丞威公司代製醫用口罩，已有170萬片流入市面，釩泰總經理李國鈺今天出面向大眾鞠躬掉淚致歉，他說，長期外銷醫療器材，今年9月加入國家隊、開始製口醫用口罩，對相關藥事法令不熟悉，認為長期合作的丞威已有製造業藥商許可執照，才會委託製造，對此事感到抱歉，會全面配合調查、並全力負責消費者退貨，也懇請政府能輔導相關法令，以免廠商誤觸法令，能以輔導取代處罰，讓中小企業持續為國人服務。李國鈺今天中午對外說明，並向社會大眾數度鞠躬致歉，他哽咽掉淚說，因為訂單壓力，委託丞威製造口罩，之前也去丞威廠勘，了解製造環境合格，由釩泰提供台灣國產熔噴布、內外層不織布、耳帶、鼻樑條等全部合格材料，再技術人員監工委託代工，成品再送回來確效並經第三方檢驗等測試，經品質驗收合格，才包裝、掛釩泰品牌，出貨給經銷商，他強調，該生產口罩均通過國家標準CNS14774測試，除使用合格材料外，並持續作最終品質認定方可出貨。\n",
        "李國鈺說，在程序上、藥事法認定上造成的瑕疵與爭議，若有產生疏失導致消費者及經銷商的不安，甚感抱歉，日後在品質及製程將更加嚴謹把關，他也向他日夜加班疲累工作的工作同仁感謝，他也說，彰化口罩工廠多，大約有95％中小企業像他一樣天天埋頭生產、提升品質，不懂藥事法，希望政府能在法律上多加輔導。\n",
        "他說，在今年8月通過第一等醫療器材許可證，核准製造醫用口罩，9月加入國家隊，雖然本身是洗腎過濾器國內最大廠商，但是新手製造口罩不熟悉，產量未如預期，礙於經銷商訂單的壓力，於是委託丞威製造口罩，從9月初到10月預計交900萬片，但丞威生產也不順利，交170多萬片，他也說，其實委託丞威的成本要3元到3.4元，比釩泰自己生產要2元上下還多。李國鈺說，釩泰加入國家隊，目前日產3萬到7萬片，原預定9月30日要交20萬片，目前也停止供貨。\n",
        "'''"
      ],
      "execution_count": 29,
      "outputs": []
    },
    {
      "cell_type": "code",
      "metadata": {
        "id": "ROPKLlVDrEXR"
      },
      "source": [
        "words = ngram(news, 2)"
      ],
      "execution_count": 30,
      "outputs": []
    },
    {
      "cell_type": "markdown",
      "metadata": {
        "id": "uXOtVX4NrMJx"
      },
      "source": [
        "# 使用字典的方式統計語句"
      ]
    },
    {
      "cell_type": "code",
      "metadata": {
        "id": "fRxJOEftrIZO"
      },
      "source": [
        "dic = {}\n",
        "for w in words:\n",
        "    if w not in dic:\n",
        "        dic[w] = 1\n",
        "    else:\n",
        "        dic[w] = dic[w] + 1"
      ],
      "execution_count": 31,
      "outputs": []
    },
    {
      "cell_type": "code",
      "metadata": {
        "id": "hP3F8dSarSDP",
        "outputId": "06c241c9-e85a-4f04-ef7c-5cccf4521f93",
        "colab": {
          "base_uri": "https://localhost:8080/",
          "height": 170
        }
      },
      "source": [
        "import operator\n",
        "swd = sorted(dic.items(), key = operator.itemgetter(1), reverse=True)\n",
        "swd[1:10]"
      ],
      "execution_count": 32,
      "outputs": [
        {
          "output_type": "execute_result",
          "data": {
            "text/plain": [
              "[('製造', 8),\n",
              " ('丞威', 7),\n",
              " ('說，', 7),\n",
              " ('釩泰', 6),\n",
              " ('委託', 6),\n",
              " ('，他', 6),\n",
              " ('罩，', 5),\n",
              " ('萬片', 5),\n",
              " ('用口', 4)]"
            ]
          },
          "metadata": {
            "tags": []
          },
          "execution_count": 32
        }
      ]
    },
    {
      "cell_type": "code",
      "metadata": {
        "id": "Uyl4OQ91rU0W"
      },
      "source": [
        "words = ngram(news,3)"
      ],
      "execution_count": 33,
      "outputs": []
    },
    {
      "cell_type": "code",
      "metadata": {
        "id": "mR3cIMy9rpfd"
      },
      "source": [
        "dic = {}\n",
        "for w in words:\n",
        "  if w not in dic:\n",
        "    dic[w] = 1\n",
        "  else:\n",
        "    dic[w] = dic[w] + 1"
      ],
      "execution_count": 34,
      "outputs": []
    },
    {
      "cell_type": "code",
      "metadata": {
        "id": "M11YmaeCr7zu",
        "outputId": "360170d2-5771-4064-a748-1b156013c3fd",
        "colab": {
          "base_uri": "https://localhost:8080/",
          "height": 170
        }
      },
      "source": [
        "import operator\n",
        "swd = sorted(dic.items(), key = operator.itemgetter(1), reverse=True)\n",
        "swd[1:10]"
      ],
      "execution_count": 35,
      "outputs": [
        {
          "output_type": "execute_result",
          "data": {
            "text/plain": [
              "[('用口罩', 4),\n",
              " ('李國鈺', 4),\n",
              " ('萬片，', 4),\n",
              " ('醫用口', 3),\n",
              " ('0萬片', 3),\n",
              " ('加入國', 3),\n",
              " ('入國家', 3),\n",
              " ('國家隊', 3),\n",
              " ('藥事法', 3)]"
            ]
          },
          "metadata": {
            "tags": []
          },
          "execution_count": 35
        }
      ]
    },
    {
      "cell_type": "code",
      "metadata": {
        "id": "oGIY8w0IsIjr",
        "outputId": "a270900b-639a-4f33-9988-ee4034350ba7",
        "colab": {
          "base_uri": "https://localhost:8080/",
          "height": 34
        }
      },
      "source": [
        "a = [1,2,3,2,2,1]\n",
        "dic2 = {}\n",
        "for l in a:\n",
        "    if l not in dic2:\n",
        "        dic2[l] = 1\n",
        "    else:\n",
        "        dic2[l] = dic2[l] + 1\n",
        "dic2"
      ],
      "execution_count": 36,
      "outputs": [
        {
          "output_type": "execute_result",
          "data": {
            "text/plain": [
              "{1: 2, 2: 3, 3: 1}"
            ]
          },
          "metadata": {
            "tags": []
          },
          "execution_count": 36
        }
      ]
    },
    {
      "cell_type": "markdown",
      "metadata": {
        "id": "iPc1hfgTsSAz"
      },
      "source": [
        "# 利用counter統計詞頻"
      ]
    },
    {
      "cell_type": "code",
      "metadata": {
        "id": "_FAGzJl6sLDZ",
        "outputId": "b9fe3573-79f8-4eef-9cf9-b2dae5998637",
        "colab": {
          "base_uri": "https://localhost:8080/",
          "height": 34
        }
      },
      "source": [
        "from collections import Counter\n",
        "a = [1,1,1,3,5,7,8,8,9,9,]\n",
        "c = Counter(a)\n",
        "c"
      ],
      "execution_count": 37,
      "outputs": [
        {
          "output_type": "execute_result",
          "data": {
            "text/plain": [
              "Counter({1: 3, 3: 1, 5: 1, 7: 1, 8: 2, 9: 2})"
            ]
          },
          "metadata": {
            "tags": []
          },
          "execution_count": 37
        }
      ]
    },
    {
      "cell_type": "code",
      "metadata": {
        "id": "0SlSoF47soJL",
        "outputId": "2deac3df-be6b-497a-bc05-9704fccc706b",
        "colab": {
          "base_uri": "https://localhost:8080/",
          "height": 34
        }
      },
      "source": [
        "c.most_common(3)"
      ],
      "execution_count": 38,
      "outputs": [
        {
          "output_type": "execute_result",
          "data": {
            "text/plain": [
              "[(1, 3), (8, 2), (9, 2)]"
            ]
          },
          "metadata": {
            "tags": []
          },
          "execution_count": 38
        }
      ]
    },
    {
      "cell_type": "code",
      "metadata": {
        "id": "FhrjB9tYssYT",
        "outputId": "c49a4ba3-0267-4430-cce5-fe3a31db97b2",
        "colab": {
          "base_uri": "https://localhost:8080/",
          "height": 187
        }
      },
      "source": [
        "words = ngram(news,3)\n",
        "c = Counter(words)\n",
        "c.most_common(10)"
      ],
      "execution_count": 39,
      "outputs": [
        {
          "output_type": "execute_result",
          "data": {
            "text/plain": [
              "[('口罩，', 5),\n",
              " ('用口罩', 4),\n",
              " ('李國鈺', 4),\n",
              " ('萬片，', 4),\n",
              " ('醫用口', 3),\n",
              " ('0萬片', 3),\n",
              " ('加入國', 3),\n",
              " ('入國家', 3),\n",
              " ('國家隊', 3),\n",
              " ('藥事法', 3)]"
            ]
          },
          "metadata": {
            "tags": []
          },
          "execution_count": 39
        }
      ]
    },
    {
      "cell_type": "code",
      "metadata": {
        "id": "F4glm5sRsw4z",
        "outputId": "f5817a96-7c36-4d6f-deca-bd598c8f7092",
        "colab": {
          "base_uri": "https://localhost:8080/",
          "height": 187
        }
      },
      "source": [
        "words = ngram(news,4)\n",
        "c = Counter(words)\n",
        "c.most_common(10)"
      ],
      "execution_count": 40,
      "outputs": [
        {
          "output_type": "execute_result",
          "data": {
            "text/plain": [
              "[('醫用口罩', 3),\n",
              " ('用口罩，', 3),\n",
              " ('加入國家', 3),\n",
              " ('入國家隊', 3),\n",
              " ('委託丞威', 3),\n",
              " ('製造口罩', 3),\n",
              " ('李國鈺今', 2),\n",
              " ('國鈺今天', 2),\n",
              " ('致歉，他', 2),\n",
              " ('醫療器材', 2)]"
            ]
          },
          "metadata": {
            "tags": []
          },
          "execution_count": 40
        }
      ]
    },
    {
      "cell_type": "code",
      "metadata": {
        "id": "nflg4E4VtHS1",
        "outputId": "0d7f5592-2ddd-4a09-a2e0-db522f2fd887",
        "colab": {
          "base_uri": "https://localhost:8080/",
          "height": 187
        }
      },
      "source": [
        "words = ngram(news,2)\n",
        "c = Counter(words)\n",
        "c.most_common(10)"
      ],
      "execution_count": 41,
      "outputs": [
        {
          "output_type": "execute_result",
          "data": {
            "text/plain": [
              "[('口罩', 9),\n",
              " ('製造', 8),\n",
              " ('丞威', 7),\n",
              " ('說，', 7),\n",
              " ('釩泰', 6),\n",
              " ('委託', 6),\n",
              " ('，他', 6),\n",
              " ('罩，', 5),\n",
              " ('萬片', 5),\n",
              " ('用口', 4)]"
            ]
          },
          "metadata": {
            "tags": []
          },
          "execution_count": 41
        }
      ]
    },
    {
      "cell_type": "markdown",
      "metadata": {
        "id": "lpEI8NxDtS__"
      },
      "source": [
        "# 長詞優先法"
      ]
    },
    {
      "cell_type": "code",
      "metadata": {
        "id": "XkaKz59YtMrY"
      },
      "source": [
        "import re \n",
        "sentenceAry = re.split('，|。|（|）|〕|〔|／|《|》|、|」|！|「|：',news)"
      ],
      "execution_count": 42,
      "outputs": []
    },
    {
      "cell_type": "code",
      "metadata": {
        "id": "ofIlaf-Tta_H"
      },
      "source": [
        "#sentenceAry"
      ],
      "execution_count": 43,
      "outputs": []
    },
    {
      "cell_type": "code",
      "metadata": {
        "id": "p712EFXptfl0",
        "outputId": "9859e393-34b4-4232-cd16-7efe8b8e8eaf",
        "colab": {
          "base_uri": "https://localhost:8080/",
          "height": 35
        }
      },
      "source": [
        "a = '比特幣期貨 美核准上市'\n",
        "a.replace('比特幣', '')"
      ],
      "execution_count": 44,
      "outputs": [
        {
          "output_type": "execute_result",
          "data": {
            "application/vnd.google.colaboratory.intrinsic+json": {
              "type": "string"
            },
            "text/plain": [
              "'期貨 美核准上市'"
            ]
          },
          "metadata": {
            "tags": []
          },
          "execution_count": 44
        }
      ]
    },
    {
      "cell_type": "code",
      "metadata": {
        "id": "AhOfxbcAtf0k",
        "outputId": "e3580887-ea5d-476c-d477-94ef6fc82b27",
        "colab": {
          "base_uri": "https://localhost:8080/",
          "height": 35
        }
      },
      "source": [
        "def removeKey(text, keywords):\n",
        "    ret = text\n",
        "    for word in keywords:\n",
        "        ret = ret.replace(word, '')\n",
        "    return ret\n",
        "\n",
        "removeKey(a, ['比特幣', '核准', '期貨'])"
      ],
      "execution_count": 45,
      "outputs": [
        {
          "output_type": "execute_result",
          "data": {
            "application/vnd.google.colaboratory.intrinsic+json": {
              "type": "string"
            },
            "text/plain": [
              "' 美上市'"
            ]
          },
          "metadata": {
            "tags": []
          },
          "execution_count": 45
        }
      ]
    },
    {
      "cell_type": "code",
      "metadata": {
        "id": "785LYtpxtnYf",
        "outputId": "87aca127-d5dd-4c49-8d03-8ecb68da4f99",
        "colab": {
          "base_uri": "https://localhost:8080/",
          "height": 34
        }
      },
      "source": [
        "a = [1,2,3]\n",
        "b = [2,3,4]\n",
        "a.append(b)\n",
        "a"
      ],
      "execution_count": 46,
      "outputs": [
        {
          "output_type": "execute_result",
          "data": {
            "text/plain": [
              "[1, 2, 3, [2, 3, 4]]"
            ]
          },
          "metadata": {
            "tags": []
          },
          "execution_count": 46
        }
      ]
    },
    {
      "cell_type": "code",
      "metadata": {
        "id": "Bn7dDoN4tpqG",
        "outputId": "70e11c2b-8ed7-4b31-df25-e0dcc819ee5e",
        "colab": {
          "base_uri": "https://localhost:8080/",
          "height": 34
        }
      },
      "source": [
        "\n",
        "a = [1,2,3]\n",
        "b = [2,3,4]\n",
        "a.extend(b)\n",
        "a"
      ],
      "execution_count": 47,
      "outputs": [
        {
          "output_type": "execute_result",
          "data": {
            "text/plain": [
              "[1, 2, 3, 2, 3, 4]"
            ]
          },
          "metadata": {
            "tags": []
          },
          "execution_count": 47
        }
      ]
    },
    {
      "cell_type": "code",
      "metadata": {
        "id": "g_eciOhPtsGC",
        "outputId": "64b482ab-28b3-4de3-f56a-d523eca0c031",
        "colab": {
          "base_uri": "https://localhost:8080/",
          "height": 238
        }
      },
      "source": [
        "keywords = []\n",
        "\n",
        "for n in range(4,1,-1):\n",
        "    #print(n)\n",
        "    words = []\n",
        "    for sentence in sentenceAry:\n",
        "        text_list = removeKey(sentence, keywords)\n",
        "        words.extend(ngram(text_list, n))\n",
        "    c = Counter(words)\n",
        "    for word, cnt in c.items():\n",
        "        if cnt >= 4:\n",
        "            keywords.append(word)\n",
        "keywords"
      ],
      "execution_count": 48,
      "outputs": [
        {
          "output_type": "execute_result",
          "data": {
            "text/plain": [
              "['用口罩',\n",
              " '李國鈺',\n",
              " '釩泰',\n",
              " '委託',\n",
              " '製造',\n",
              " '丞威',\n",
              " '萬片',\n",
              " '9月',\n",
              " '國家',\n",
              " '口罩',\n",
              " '合格',\n",
              " '品質',\n",
              " '生產']"
            ]
          },
          "metadata": {
            "tags": []
          },
          "execution_count": 48
        }
      ]
    },
    {
      "cell_type": "markdown",
      "metadata": {
        "id": "6SUlLVYUS3k1"
      },
      "source": [
        "# 建立一長詞優先處理函數"
      ]
    },
    {
      "cell_type": "code",
      "metadata": {
        "id": "4BANv-N3tugv"
      },
      "source": [
        "news = '''\n",
        "〔即時新聞／綜合報導〕台灣女星歐陽娜娜昨（30日）晚登上中國官媒央視，為十一國慶晚會獻唱被視為統戰歌曲的《我的祖國》，無獨有偶，先前曾多次表示「來自中國台灣」前WANNA ONE成員賴冠霖，今（1日）晚也將上央視國慶音樂會演唱《龍的傳人》，他近日在受訪影片中更以一口流利的北京腔說出：「我是賴冠霖，我在中國台灣等你！」綜合媒體報導，現年19歲、以韓國選秀節目《Produce 101 S2》出道的前Wanna One成員賴冠霖，自從團體解散後，就將演藝重心轉往中國，而在選秀期間就自稱來自中國台灣的他，今日也將出現在央視《江山如畫國慶音樂會》，並和其他中國藝人演唱《龍的傳人》。稍早央視也在微博PO出賴冠霖的個人宣傳片段，影片中他開頭就表示「我是賴冠霖，我在中國台北等你」，接著又強調「台灣省台北市」，還說有不少美食，鹽酥雞、鳳梨酥等等。昨晚歐陽娜娜登上央視國慶晚會，和中國藝人合唱《我的祖國》，引起軒然大波，陸委會也展開調查，若認定違規，將依《臺灣地區與大陸地區人民關係條例》開罰，最高恐罰50萬元。'''"
      ],
      "execution_count": 49,
      "outputs": []
    },
    {
      "cell_type": "code",
      "metadata": {
        "id": "_cKR1ISguy_C"
      },
      "source": [
        "import re\n",
        "def longTermFirst(news, keywords, threshold):\n",
        "    sentenceAry = re.split('，|。|（|）|〕|〔|／|《|》|、|」|！|「|：',news)\n",
        "\n",
        "    for n in range(4,1,-1):\n",
        "        words = []\n",
        "        for sentence in sentenceAry:\n",
        "            text_list = removeKey(sentence, keywords)\n",
        "            words.extend(ngram(text_list, n))\n",
        "            \n",
        "        c = Counter(words)\n",
        "        for word, cnt in c.items():\n",
        "            m = re.match('^[\\u4e00-\\u9fa5]+$', word)\n",
        "            if (cnt >= threshold) and m:\n",
        "                keywords.append(word)\n",
        "    return keywords"
      ],
      "execution_count": 50,
      "outputs": []
    },
    {
      "cell_type": "code",
      "metadata": {
        "id": "T-m-ZnhEu1eY",
        "outputId": "2a91d794-e926-47f9-cd00-856af67c47c4",
        "colab": {
          "base_uri": "https://localhost:8080/",
          "height": 34
        }
      },
      "source": [
        "longTermFirst(news, [],3)"
      ],
      "execution_count": 51,
      "outputs": [
        {
          "output_type": "execute_result",
          "data": {
            "text/plain": [
              "['中國台灣', '賴冠霖', '中國', '央視', '國慶']"
            ]
          },
          "metadata": {
            "tags": []
          },
          "execution_count": 51
        }
      ]
    },
    {
      "cell_type": "markdown",
      "metadata": {
        "id": "6ha4c5qgvhlc"
      },
      "source": [
        "# 使用正規表達法篩選中文字詞"
      ]
    },
    {
      "cell_type": "code",
      "metadata": {
        "id": "zwQm8yowu4aW",
        "outputId": "f136c763-d993-4584-aa83-0a4c5f09e225",
        "colab": {
          "base_uri": "https://localhost:8080/",
          "height": 102
        }
      },
      "source": [
        "words = ['中國台灣', '3/1', '\\n \\n',  '賴冠霖', '中國', '央視', '國慶']\n",
        "\n",
        "import re\n",
        "for w in words:\n",
        "    m = re.match('^[\\u4e00-\\u9fa5]+$', w)\n",
        "    if m:\n",
        "        print(w)"
      ],
      "execution_count": 52,
      "outputs": [
        {
          "output_type": "stream",
          "text": [
            "中國台灣\n",
            "賴冠霖\n",
            "中國\n",
            "央視\n",
            "國慶\n"
          ],
          "name": "stdout"
        }
      ]
    },
    {
      "cell_type": "markdown",
      "metadata": {
        "id": "84TEjd3pvlsZ"
      },
      "source": [
        "# 詞頻統計"
      ]
    },
    {
      "cell_type": "code",
      "metadata": {
        "id": "cE6SgWAOvm36"
      },
      "source": [
        "article = '''\n",
        "一、積極促進在投資和經濟合作領域加快給予台資企業與大陸企業同等待遇\n",
        "1. 台灣同胞在大陸投資的企業 (以下簡稱「台資企業」) 參與「中國製造 2025」行動計劃適用與大陸企業同等政策。支持台商來大陸投資設立高端製造、智能製造、綠色製造等企業並設立區域總部和研發設計中心，相應享受稅收、投資等相關支持政策。\n",
        "\n",
        "2. 幫助和支持符合條件的台資企業依法享受高新技術企業減按 15% 稅率徵收企業所得稅，研發費用加計扣除，設在大陸的研發中心採購大陸設備全額退還增值稅等稅收優惠政策。\n",
        "\n",
        "3. 台灣科研機構、高等學校、企業在大陸註冊的獨立法人，可牽頭或參與國家重點研發計劃項目申報，享受與大陸科研機構、高等學校、企業同等政策。受聘於在大陸註冊的獨立法人的台灣地區科研人員，可作為國家重點研發計劃項目 (課題) 負責人申報，享受與大陸科研人員同等政策。對台灣地區知識產權在大陸轉化的，可參照執行大陸知識產權激勵政策。\n",
        "\n",
        "4. 台資企業可以特許經營方式參與能源、交通、水利、環保、市政公用工程等基礎設施建設。\n",
        "\n",
        "5. 台資企業可公平參與政府採購。\n",
        "\n",
        "6. 台資企業可通過合資合作、併購重組等方式參與國有企業混合所有製改革。\n",
        "\n",
        "7. 台資企業與大陸企業同等適用相關用地政策。對集約用地的鼓勵類台商投資工業項目優先供應土地，在確定土地出讓底價時，可按不低於所在地土地等別相對應大陸工業用地出讓最低價標準的 70% 執行。\n",
        "\n",
        "8. 繼續在中西部、東北地區設立海峽兩岸產業合作區，鼓勵台資企業向中西部、東北地區轉移並參與「一帶一路」建設，拓展內需市場和國際市場。大力推進台商投資區和兩岸環保產業合作示範基地建設。\n",
        "\n",
        "9. 台資農業企業可與大陸農業企業同等享受農機購置補貼、產業化重點龍頭企業等農業支持政策和優惠措施。\n",
        "\n",
        "10. 台灣金融機構、商家可與中國銀聯及大陸非銀行支付機構依法合規開展合作，為台灣同胞提供便捷的小額支付服務。\n",
        "\n",
        "11. 台灣徵信機構可與大陸徵信機構開展合作，為兩岸同胞和企業提供徵信服務。\n",
        "\n",
        "12. 台資銀行可與大陸同業協作，通過銀團貸款等方式為實體經濟提供金融服務。\n",
        "\n",
        "二、逐步為台灣同胞在大陸學習、創業、就業、生活提供與大陸同胞同等的待遇\n",
        "13. 台灣同胞可報名參加 53 項專業技術人員職業資格考試和 81 項技能人員職業資格考試 (《向台灣居民開放的國家職業資格考試目錄》附後，具體執業辦法由有關部門另行製定)。\n",
        "\n",
        "14. 台灣專業人才可申請參與國家「千人計劃」。在大陸工作的台灣專業人才，可申請參與國家「萬人計劃」。\n",
        "\n",
        "15. 台灣同胞可申報國家自然科學基金、國家社會科學基金、國家傑出青年科學基金、國家藝術基金等各類基金項目。具體辦法由相關主管部門製定。\n",
        "\n",
        "16. 鼓勵台灣同胞參與中華經典誦讀工程、文化遺產保護工程、非物質文化遺產傳承發展工程等中華優秀傳統文化傳承發展工程。支持台灣文化藝術界團體和人士參與大陸在海外舉辦的感知中國、中國文化年 (節)、歡樂春節等品牌活動，參加「中華文化走出去」計劃。符合條件的兩岸文化項目可納入海外中國文化中心項目資源庫。\n",
        "\n",
        "17. 支持中華慈善獎、梅花獎、金鷹獎等經濟科技文化社會領域各類評獎項目提名涵蓋台灣地區。在大陸工作的台灣同胞可參加當地勞動模範、「五一」勞動獎章、技術能手、「三八」紅旗手等榮譽稱號評選。\n",
        "\n",
        "18. 台灣人士參與大陸廣播電視節目和電影、電視劇製作可不受數量限制。\n",
        "\n",
        "19. 大陸電影發行機構、廣播電視台、視聽網站和有線電視網引進台灣生產的電影、電視劇不做數量限制。\n",
        "\n",
        "20. 放寬兩岸合拍電影、電視劇在主創人員比例、大陸元素、投資比例等方面的限制；取消收取兩岸電影合拍立項申報費用；縮短兩岸電視劇合拍立項階段故事梗概的審批時限。\n",
        "\n",
        "21. 對台灣圖書進口業務建立綠色通道，簡化進口審批流程。同時段進口的台灣圖書可優先辦理相關手續。\n",
        "\n",
        "22. 鼓勵台灣同胞加入大陸經濟、科技、文化、藝術類專業性社團組織、行業協會，參加相關活動。\n",
        "\n",
        "23. 支持鼓勵兩岸教育文化科研機構開展中國文化、歷史、民族等領域研究和成果應用。\n",
        "\n",
        "24. 台灣地區從事兩岸民間交流的機構可申請兩岸交流基金項目。\n",
        "\n",
        "25. 鼓勵台灣同胞和相關社團參與大陸扶貧、支教、公益、社區建設等基層工作。\n",
        "\n",
        "26. 在大陸高校就讀臨床醫學專業碩士學位的台灣學生，在參加研究生學習一年後，可按照大陸醫師資格考試報名的相關規定申請參加考試。\n",
        "\n",
        "27. 取得大陸醫師資格證書的台灣同胞，可按照相關規定在大陸申請執業註冊。\n",
        "\n",
        "28. 符合條件的台灣醫師，可通過認定方式獲得大陸醫師資格。符合條件的台灣醫師，可按照相關規定在大陸申請註冊短期行醫，期滿後可重新辦理註冊手續。\n",
        "\n",
        "29. 在台灣已獲取相應資格的台灣同胞在大陸申請證券、期貨、基金從業資格時，只需通過大陸法律法規考試，無需參加專業知識考試。\n",
        "\n",
        "30. 鼓勵台灣教師來大陸高校任教，其在台灣取得的學術成果可納入工作評價體系。\n",
        "\n",
        "31. 為方便台灣同胞在大陸應聘工作，推動各類人事人才網站和企業線上招聘做好系統升級，支持使用台胞證註冊登錄。\n",
        "'''"
      ],
      "execution_count": 53,
      "outputs": []
    },
    {
      "cell_type": "code",
      "metadata": {
        "id": "qXvA5EaAwTY_"
      },
      "source": [
        "keywords = longTermFirst(article, ['大陸', '臺灣'], 5)\n",
        "\n",
        "with open('userdict.txt', 'a', encoding='utf-8') as f:\n",
        "    for w in keywords:\n",
        "        f.write(w+'\\n')"
      ],
      "execution_count": 54,
      "outputs": []
    },
    {
      "cell_type": "code",
      "metadata": {
        "id": "NQjewoOKwVEn",
        "outputId": "38bd71c8-b4af-4ed2-dc08-e7af3046db1e",
        "colab": {
          "base_uri": "https://localhost:8080/",
          "height": 51
        }
      },
      "source": [
        "# unpacking\n",
        "k, v = ('大陸', 38)\n",
        "print(k)\n",
        "print(v)"
      ],
      "execution_count": 55,
      "outputs": [
        {
          "output_type": "stream",
          "text": [
            "大陸\n",
            "38\n"
          ],
          "name": "stdout"
        }
      ]
    },
    {
      "cell_type": "code",
      "metadata": {
        "id": "UkMgG8eTwXM4",
        "outputId": "f24d1d38-4543-45df-b616-580da2cb27e6",
        "colab": {
          "base_uri": "https://localhost:8080/",
          "height": 1000
        }
      },
      "source": [
        "import jieba\n",
        "from collections import Counter\n",
        "\n",
        "jieba.load_userdict('userdict.txt')\n",
        "c = Counter(list(jieba.cut(article)))\n",
        "for k,v in c.most_common():\n",
        "    if (len(k) >= 2) and (v >= 2):\n",
        "        print(k,v)"
      ],
      "execution_count": 56,
      "outputs": [
        {
          "output_type": "stream",
          "text": [
            "大陸 38\n",
            "台灣 15\n",
            "台灣同胞 12\n",
            "參與 12\n",
            "文化 12\n",
            "企業 10\n",
            "兩岸 10\n",
            "相關 9\n",
            "機構 9\n",
            "國家 9\n",
            "台資企業 8\n",
            "政策 8\n",
            "支持 8\n",
            "項目 8\n",
            "資格 8\n",
            "投資 7\n",
            "鼓勵 7\n",
            "參加 7\n",
            "考試 7\n",
            "申請 7\n",
            "基金 7\n",
            "電視 7\n",
            "合作 6\n",
            "中國 6\n",
            "計劃 6\n",
            "註冊 6\n",
            "的台灣 6\n",
            "地區 6\n",
            "專業 6\n",
            "企業同等 5\n",
            "研發 5\n",
            "享受 5\n",
            "科研 5\n",
            "人員 5\n",
            "工程 5\n",
            "工作 5\n",
            "電影 5\n",
            "醫師 5\n",
            "經濟 4\n",
            "符合 4\n",
            "條件 4\n",
            "申報 4\n",
            "方式 4\n",
            "建設 4\n",
            "提供 4\n",
            "領域 3\n",
            "台商 3\n",
            "中心 3\n",
            "技術 3\n",
            "重點 3\n",
            "用地 3\n",
            "土地 3\n",
            "農業 3\n",
            "開展 3\n",
            "職業 3\n",
            "人才 3\n",
            "各類 3\n",
            "中華 3\n",
            "限制 3\n",
            "合拍 3\n",
            "按照 3\n",
            "規定 3\n",
            "待遇 2\n",
            "適用 2\n",
            "設立 2\n",
            "相應 2\n",
            "稅收 2\n",
            "依法 2\n",
            "費用 2\n",
            "採購 2\n",
            "優惠 2\n",
            "高等 2\n",
            "學校 2\n",
            "立法 2\n",
            "同等 2\n",
            "知識產權 2\n",
            "執行 2\n",
            "工業 2\n",
            "中西部 2\n",
            "東北 2\n",
            "台資 2\n",
            "金融 2\n",
            "支付 2\n",
            "服務 2\n",
            "徵信 2\n",
            "同胞 2\n",
            "學習 2\n",
            "具體 2\n",
            "執業 2\n",
            "辦法 2\n",
            "社會 2\n",
            "發展 2\n",
            "人士 2\n",
            "海外 2\n",
            "活動 2\n",
            "可納入 2\n",
            "科技 2\n",
            "勞動 2\n",
            "廣播 2\n",
            "網站 2\n",
            "比例 2\n",
            "立項 2\n",
            "審批 2\n",
            "圖書 2\n",
            "進口 2\n",
            "辦理 2\n",
            "手續 2\n",
            "成果 2\n",
            "交流 2\n",
            "高校 2\n",
            "取得 2\n"
          ],
          "name": "stdout"
        }
      ]
    },
    {
      "cell_type": "code",
      "metadata": {
        "id": "8wgpUfAxwZkL"
      },
      "source": [
        "import scipy as sp\n",
        "a, abb ,abc = ['a'], ['a', 'b', 'b'], ['a', 'b', 'c']\n",
        "D = [a,abb,abc]"
      ],
      "execution_count": 57,
      "outputs": []
    },
    {
      "cell_type": "code",
      "metadata": {
        "id": "zH7dmjZcwb5a",
        "outputId": "140c2531-1b5b-4f2c-a881-1dd1931de085",
        "colab": {
          "base_uri": "https://localhost:8080/",
          "height": 68
        }
      },
      "source": [
        "#tfidf('a', a, D)\n",
        "tf  = 1/1\n",
        "idf = sp.log(3/3)\n",
        "tf * idf"
      ],
      "execution_count": 58,
      "outputs": [
        {
          "output_type": "stream",
          "text": [
            "/usr/local/lib/python3.6/dist-packages/ipykernel_launcher.py:3: DeprecationWarning: scipy.log is deprecated and will be removed in SciPy 2.0.0, use numpy.lib.scimath.log instead\n",
            "  This is separate from the ipykernel package so we can avoid doing imports until\n"
          ],
          "name": "stderr"
        },
        {
          "output_type": "execute_result",
          "data": {
            "text/plain": [
              "0.0"
            ]
          },
          "metadata": {
            "tags": []
          },
          "execution_count": 58
        }
      ]
    },
    {
      "cell_type": "code",
      "metadata": {
        "id": "JURjIBgIwevl",
        "outputId": "b13b2488-5d49-47c9-d64e-f2c19bb76fb2",
        "colab": {
          "base_uri": "https://localhost:8080/",
          "height": 68
        }
      },
      "source": [
        "#tfidf('a', abb, D)\n",
        "tf  = 1/3\n",
        "idf = sp.log(3/3)\n",
        "tf * idf"
      ],
      "execution_count": 59,
      "outputs": [
        {
          "output_type": "stream",
          "text": [
            "/usr/local/lib/python3.6/dist-packages/ipykernel_launcher.py:3: DeprecationWarning: scipy.log is deprecated and will be removed in SciPy 2.0.0, use numpy.lib.scimath.log instead\n",
            "  This is separate from the ipykernel package so we can avoid doing imports until\n"
          ],
          "name": "stderr"
        },
        {
          "output_type": "execute_result",
          "data": {
            "text/plain": [
              "0.0"
            ]
          },
          "metadata": {
            "tags": []
          },
          "execution_count": 59
        }
      ]
    },
    {
      "cell_type": "code",
      "metadata": {
        "id": "OMOWxXQbwgkc",
        "outputId": "581a4385-0233-46cc-91cf-90087778d9d1",
        "colab": {
          "base_uri": "https://localhost:8080/",
          "height": 68
        }
      },
      "source": [
        "#tfidf('a', abc, D)\n",
        "tf  = 1/3\n",
        "idf = sp.log(3/3)\n",
        "tf * idf"
      ],
      "execution_count": 60,
      "outputs": [
        {
          "output_type": "stream",
          "text": [
            "/usr/local/lib/python3.6/dist-packages/ipykernel_launcher.py:3: DeprecationWarning: scipy.log is deprecated and will be removed in SciPy 2.0.0, use numpy.lib.scimath.log instead\n",
            "  This is separate from the ipykernel package so we can avoid doing imports until\n"
          ],
          "name": "stderr"
        },
        {
          "output_type": "execute_result",
          "data": {
            "text/plain": [
              "0.0"
            ]
          },
          "metadata": {
            "tags": []
          },
          "execution_count": 60
        }
      ]
    },
    {
      "cell_type": "code",
      "metadata": {
        "id": "uoFEgvuQwmKO",
        "outputId": "bfc6655b-9d47-4793-9c06-4bf4993b1739",
        "colab": {
          "base_uri": "https://localhost:8080/",
          "height": 68
        }
      },
      "source": [
        "#tfidf('b', abb, D)\n",
        "tf  = 2/3\n",
        "idf = sp.log(3/2)\n",
        "tf * idf"
      ],
      "execution_count": 61,
      "outputs": [
        {
          "output_type": "stream",
          "text": [
            "/usr/local/lib/python3.6/dist-packages/ipykernel_launcher.py:3: DeprecationWarning: scipy.log is deprecated and will be removed in SciPy 2.0.0, use numpy.lib.scimath.log instead\n",
            "  This is separate from the ipykernel package so we can avoid doing imports until\n"
          ],
          "name": "stderr"
        },
        {
          "output_type": "execute_result",
          "data": {
            "text/plain": [
              "0.27031007207210955"
            ]
          },
          "metadata": {
            "tags": []
          },
          "execution_count": 61
        }
      ]
    },
    {
      "cell_type": "code",
      "metadata": {
        "id": "aOwL1nqPwqIU",
        "outputId": "bc0aed9b-ea6d-4d0e-e08c-8e8d9005c399",
        "colab": {
          "base_uri": "https://localhost:8080/",
          "height": 68
        }
      },
      "source": [
        "#tfidf('b', abc, D)\n",
        "tf  = 1/3\n",
        "idf = sp.log(3/2)\n",
        "tf * idf"
      ],
      "execution_count": 62,
      "outputs": [
        {
          "output_type": "stream",
          "text": [
            "/usr/local/lib/python3.6/dist-packages/ipykernel_launcher.py:3: DeprecationWarning: scipy.log is deprecated and will be removed in SciPy 2.0.0, use numpy.lib.scimath.log instead\n",
            "  This is separate from the ipykernel package so we can avoid doing imports until\n"
          ],
          "name": "stderr"
        },
        {
          "output_type": "execute_result",
          "data": {
            "text/plain": [
              "0.13515503603605478"
            ]
          },
          "metadata": {
            "tags": []
          },
          "execution_count": 62
        }
      ]
    },
    {
      "cell_type": "code",
      "metadata": {
        "id": "GG3g-BM7wsVV",
        "outputId": "82b474bc-d787-40fd-d502-654892bd9fca",
        "colab": {
          "base_uri": "https://localhost:8080/",
          "height": 68
        }
      },
      "source": [
        "#tfidf('c', abc, D)\n",
        "tf  = 1/3\n",
        "idf = sp.log(3/1)\n",
        "tf * idf"
      ],
      "execution_count": 63,
      "outputs": [
        {
          "output_type": "stream",
          "text": [
            "/usr/local/lib/python3.6/dist-packages/ipykernel_launcher.py:3: DeprecationWarning: scipy.log is deprecated and will be removed in SciPy 2.0.0, use numpy.lib.scimath.log instead\n",
            "  This is separate from the ipykernel package so we can avoid doing imports until\n"
          ],
          "name": "stderr"
        },
        {
          "output_type": "execute_result",
          "data": {
            "text/plain": [
              "0.3662040962227032"
            ]
          },
          "metadata": {
            "tags": []
          },
          "execution_count": 63
        }
      ]
    },
    {
      "cell_type": "code",
      "metadata": {
        "id": "-GMquGbxwuBI",
        "outputId": "9df4876d-f70f-41d7-f9ed-219661ddaa80",
        "colab": {
          "base_uri": "https://localhost:8080/",
          "height": 34
        }
      },
      "source": [
        "## count\n",
        "a= [1,2,3,1,1,2]\n",
        "a.count(1)"
      ],
      "execution_count": 64,
      "outputs": [
        {
          "output_type": "execute_result",
          "data": {
            "text/plain": [
              "3"
            ]
          },
          "metadata": {
            "tags": []
          },
          "execution_count": 64
        }
      ]
    },
    {
      "cell_type": "code",
      "metadata": {
        "id": "9fEzyOA0wwlN"
      },
      "source": [
        "def tfidf(t,d,D):\n",
        "    tf  = d.count(t) / len(d)\n",
        "    idf = sp.log(len(D) / len([doc for doc in D if t in doc]) )\n",
        "    return tf * idf"
      ],
      "execution_count": 65,
      "outputs": []
    },
    {
      "cell_type": "code",
      "metadata": {
        "id": "WYHjfHcNwyiC",
        "outputId": "36554433-3ee1-419f-f42c-7b9a5591dd93",
        "colab": {
          "base_uri": "https://localhost:8080/",
          "height": 68
        }
      },
      "source": [
        "tfidf('a', a, D)\n",
        "tfidf('a', abb, D)\n",
        "tfidf('a', abc, D)"
      ],
      "execution_count": 66,
      "outputs": [
        {
          "output_type": "stream",
          "text": [
            "/usr/local/lib/python3.6/dist-packages/ipykernel_launcher.py:3: DeprecationWarning: scipy.log is deprecated and will be removed in SciPy 2.0.0, use numpy.lib.scimath.log instead\n",
            "  This is separate from the ipykernel package so we can avoid doing imports until\n"
          ],
          "name": "stderr"
        },
        {
          "output_type": "execute_result",
          "data": {
            "text/plain": [
              "0.0"
            ]
          },
          "metadata": {
            "tags": []
          },
          "execution_count": 66
        }
      ]
    },
    {
      "cell_type": "code",
      "metadata": {
        "id": "6POTSbcAw0uZ",
        "outputId": "2cc2d22b-d82f-49b3-a9d5-331c262ebcea",
        "colab": {
          "base_uri": "https://localhost:8080/",
          "height": 68
        }
      },
      "source": [
        "tfidf('b', abb, D)"
      ],
      "execution_count": 67,
      "outputs": [
        {
          "output_type": "stream",
          "text": [
            "/usr/local/lib/python3.6/dist-packages/ipykernel_launcher.py:3: DeprecationWarning: scipy.log is deprecated and will be removed in SciPy 2.0.0, use numpy.lib.scimath.log instead\n",
            "  This is separate from the ipykernel package so we can avoid doing imports until\n"
          ],
          "name": "stderr"
        },
        {
          "output_type": "execute_result",
          "data": {
            "text/plain": [
              "0.27031007207210955"
            ]
          },
          "metadata": {
            "tags": []
          },
          "execution_count": 67
        }
      ]
    },
    {
      "cell_type": "code",
      "metadata": {
        "id": "7-kZ7yPtw24l",
        "outputId": "3044ec51-ece7-4aa7-ed0b-d7b87cefe1f6",
        "colab": {
          "base_uri": "https://localhost:8080/",
          "height": 68
        }
      },
      "source": [
        "tfidf('b', abc, D)"
      ],
      "execution_count": 68,
      "outputs": [
        {
          "output_type": "stream",
          "text": [
            "/usr/local/lib/python3.6/dist-packages/ipykernel_launcher.py:3: DeprecationWarning: scipy.log is deprecated and will be removed in SciPy 2.0.0, use numpy.lib.scimath.log instead\n",
            "  This is separate from the ipykernel package so we can avoid doing imports until\n"
          ],
          "name": "stderr"
        },
        {
          "output_type": "execute_result",
          "data": {
            "text/plain": [
              "0.13515503603605478"
            ]
          },
          "metadata": {
            "tags": []
          },
          "execution_count": 68
        }
      ]
    },
    {
      "cell_type": "code",
      "metadata": {
        "id": "m48XUbXiw4hy",
        "outputId": "effafd5c-a663-4068-a6af-9e1a135d8ad8",
        "colab": {
          "base_uri": "https://localhost:8080/",
          "height": 68
        }
      },
      "source": [
        "tfidf('c', abc, D)"
      ],
      "execution_count": 69,
      "outputs": [
        {
          "output_type": "stream",
          "text": [
            "/usr/local/lib/python3.6/dist-packages/ipykernel_launcher.py:3: DeprecationWarning: scipy.log is deprecated and will be removed in SciPy 2.0.0, use numpy.lib.scimath.log instead\n",
            "  This is separate from the ipykernel package so we can avoid doing imports until\n"
          ],
          "name": "stderr"
        },
        {
          "output_type": "execute_result",
          "data": {
            "text/plain": [
              "0.3662040962227032"
            ]
          },
          "metadata": {
            "tags": []
          },
          "execution_count": 69
        }
      ]
    },
    {
      "cell_type": "code",
      "metadata": {
        "id": "FLnIowvww6Ep",
        "outputId": "473c6663-54c8-45e0-8e71-48d591df981a",
        "colab": {
          "base_uri": "https://localhost:8080/",
          "height": 34
        }
      },
      "source": [
        "import jieba.analyse\n",
        "tags = jieba.analyse.extract_tags('那酸民婉君也可以報名嗎', 1)\n",
        "tags"
      ],
      "execution_count": 70,
      "outputs": [
        {
          "output_type": "execute_result",
          "data": {
            "text/plain": [
              "['那酸民婉君']"
            ]
          },
          "metadata": {
            "tags": []
          },
          "execution_count": 70
        }
      ]
    },
    {
      "cell_type": "code",
      "metadata": {
        "id": "jEy9sfm8w8kT"
      },
      "source": [
        "?jieba.analyse.set_idf_path"
      ],
      "execution_count": 71,
      "outputs": []
    },
    {
      "cell_type": "markdown",
      "metadata": {
        "id": "pe17r08LxsEL"
      },
      "source": [
        "# 詞頻矩陣"
      ]
    },
    {
      "cell_type": "code",
      "metadata": {
        "id": "ZBXIqFJTw-wI",
        "outputId": "fdd3b121-7dfa-491e-f51b-7fe0ade1c71c",
        "colab": {
          "base_uri": "https://localhost:8080/",
          "height": 35
        }
      },
      "source": [
        "## string join\n",
        "s = ['a', 'v', 'g']\n",
        "' '.join(s)\n",
        "'@'.join(s)"
      ],
      "execution_count": 72,
      "outputs": [
        {
          "output_type": "execute_result",
          "data": {
            "application/vnd.google.colaboratory.intrinsic+json": {
              "type": "string"
            },
            "text/plain": [
              "'a@v@g'"
            ]
          },
          "metadata": {
            "tags": []
          },
          "execution_count": 72
        }
      ]
    },
    {
      "cell_type": "code",
      "metadata": {
        "id": "gjh5yaAUxwa5",
        "outputId": "ae65395e-5e49-442b-b0dd-4736d407e19c",
        "colab": {
          "base_uri": "https://localhost:8080/",
          "height": 68
        }
      },
      "source": [
        "corpus = ['this is a macbook', 'this is my iphone12']\n",
        "from sklearn.feature_extraction.text import CountVectorizer\n",
        "vectorizer = CountVectorizer()\n",
        "X = vectorizer.fit_transform(corpus)\n",
        "print(vectorizer.get_feature_names())\n",
        "print(X.toarray())"
      ],
      "execution_count": 73,
      "outputs": [
        {
          "output_type": "stream",
          "text": [
            "['iphone12', 'is', 'macbook', 'my', 'this']\n",
            "[[0 1 1 0 1]\n",
            " [1 1 0 1 1]]\n"
          ],
          "name": "stdout"
        }
      ]
    },
    {
      "cell_type": "code",
      "metadata": {
        "id": "dn6j3K_Tx0Ge"
      },
      "source": [
        "ary = ['【更新】柯P：洪智坤洩漏公文案還沒看到公文　今處理',\n",
        "       '留洪智坤 柯：殘障求職不易',\n",
        "       '人事處議處洪智坤　柯P：不清楚議處結果']"
      ],
      "execution_count": 74,
      "outputs": []
    },
    {
      "cell_type": "code",
      "metadata": {
        "id": "nXVeYpc1x8pg"
      },
      "source": [
        "import jieba\n",
        "jieba.load_userdict('userdict.txt')\n",
        "corpus = []\n",
        "for title in ary:\n",
        "    corpus.append(' '.join(jieba.cut(title)) )\n",
        "#jieba.cut()"
      ],
      "execution_count": 75,
      "outputs": []
    },
    {
      "cell_type": "code",
      "metadata": {
        "id": "YqgvPySdyAAz",
        "outputId": "d006f78c-7408-46c7-c7d2-e0fefe8a134e",
        "colab": {
          "base_uri": "https://localhost:8080/",
          "height": 68
        }
      },
      "source": [
        "corpus"
      ],
      "execution_count": 76,
      "outputs": [
        {
          "output_type": "execute_result",
          "data": {
            "text/plain": [
              "['【 更新 】 柯P ： 洪智坤 洩漏 公文 案還 沒 看到 公文 \\u3000 今處理',\n",
              " '留洪智坤   柯 ： 殘障 求職 不易',\n",
              " '人事 處議 處 洪智坤 \\u3000 柯P ： 不 清楚 議處 結果']"
            ]
          },
          "metadata": {
            "tags": []
          },
          "execution_count": 76
        }
      ]
    },
    {
      "cell_type": "code",
      "metadata": {
        "id": "ey3229QHyCQI",
        "outputId": "369c4e06-7818-4b76-99bf-9a74b973224a",
        "colab": {
          "base_uri": "https://localhost:8080/",
          "height": 85
        }
      },
      "source": [
        "from sklearn.feature_extraction.text import CountVectorizer\n",
        "vectorizer = CountVectorizer()\n",
        "X = vectorizer.fit_transform(corpus)\n",
        "print(vectorizer.get_feature_names())\n",
        "print(X.toarray())"
      ],
      "execution_count": 77,
      "outputs": [
        {
          "output_type": "stream",
          "text": [
            "['不易', '人事', '今處理', '公文', '更新', '柯p', '案還', '殘障', '求職', '洩漏', '洪智坤', '清楚', '留洪智坤', '看到', '結果', '處議', '議處']\n",
            "[[0 0 1 2 1 1 1 0 0 1 1 0 0 1 0 0 0]\n",
            " [1 0 0 0 0 0 0 1 1 0 0 0 1 0 0 0 0]\n",
            " [0 1 0 0 0 1 0 0 0 0 1 1 0 0 1 1 1]]\n"
          ],
          "name": "stdout"
        }
      ]
    },
    {
      "cell_type": "code",
      "metadata": {
        "id": "DL1059EhyGch"
      },
      "source": [
        "ary = ['【更新】柯P：洪智坤洩漏公文案還沒看到公文　今處理',\n",
        "       '留洪智坤 柯文哲：殘障求職不易',\n",
        "       '人事處議處洪智坤　柯P：不清楚議處結果']"
      ],
      "execution_count": 78,
      "outputs": []
    },
    {
      "cell_type": "code",
      "metadata": {
        "id": "TO5b2lhIyIfr"
      },
      "source": [
        "import jieba\n",
        "jieba.load_userdict('userdict.txt')\n",
        "corpus = []\n",
        "for title in ary:\n",
        "    corpus.append(' '.join(jieba.cut(title)) )"
      ],
      "execution_count": 79,
      "outputs": []
    },
    {
      "cell_type": "code",
      "metadata": {
        "id": "zJHKiSg9yK6s",
        "outputId": "f2337cab-b2d5-4833-e65a-665d1d095960",
        "colab": {
          "base_uri": "https://localhost:8080/",
          "height": 85
        }
      },
      "source": [
        "from sklearn.feature_extraction.text import CountVectorizer\n",
        "vectorizer = CountVectorizer()\n",
        "X = vectorizer.fit_transform(corpus)\n",
        "print(vectorizer.get_feature_names())\n",
        "print(X.toarray())"
      ],
      "execution_count": 80,
      "outputs": [
        {
          "output_type": "stream",
          "text": [
            "['不易', '人事', '今處理', '公文', '更新', '柯p', '柯文', '案還', '殘障', '求職', '洩漏', '洪智坤', '清楚', '留洪智坤', '看到', '結果', '處議', '議處']\n",
            "[[0 0 1 2 1 1 0 1 0 0 1 1 0 0 1 0 0 0]\n",
            " [1 0 0 0 0 0 1 0 1 1 0 0 0 1 0 0 0 0]\n",
            " [0 1 0 0 0 1 0 0 0 0 0 1 1 0 0 1 1 1]]\n"
          ],
          "name": "stdout"
        }
      ]
    },
    {
      "cell_type": "markdown",
      "metadata": {
        "id": "WtZ5nOcEyQIb"
      },
      "source": [
        "# 加入同義詞區分出一樣名詞"
      ]
    },
    {
      "cell_type": "code",
      "metadata": {
        "id": "USOcVND3yNNi",
        "outputId": "9a4787a9-ce23-448f-8bec-a85b103e3115",
        "colab": {
          "base_uri": "https://localhost:8080/",
          "height": 34
        }
      },
      "source": [
        "synonym = [w.strip() for w in  open('synonym.txt', 'r')]\n",
        "synonym"
      ],
      "execution_count": 81,
      "outputs": [
        {
          "output_type": "execute_result",
          "data": {
            "text/plain": [
              "['台灣/臺灣/Taiwan,', '川普/特郎普,', '柯文哲/柯p/柯P']"
            ]
          },
          "metadata": {
            "tags": []
          },
          "execution_count": 81
        }
      ]
    },
    {
      "cell_type": "code",
      "metadata": {
        "id": "IUn_kd_EIhMD",
        "outputId": "d2063f3d-2e7f-4b2d-b1a9-3c5805acfc27",
        "colab": {
          "base_uri": "https://localhost:8080/",
          "height": 153
        }
      },
      "source": [
        "synonym_dic = {}\n",
        "for term in synonym:\n",
        "    words = term.split('/')\n",
        "    for w in words:\n",
        "        synonym_dic[w] = words[0]\n",
        "synonym_dic"
      ],
      "execution_count": 82,
      "outputs": [
        {
          "output_type": "execute_result",
          "data": {
            "text/plain": [
              "{'Taiwan,': '台灣',\n",
              " '台灣': '台灣',\n",
              " '川普': '川普',\n",
              " '柯P': '柯文哲',\n",
              " '柯p': '柯文哲',\n",
              " '柯文哲': '柯文哲',\n",
              " '特郎普,': '川普',\n",
              " '臺灣': '台灣'}"
            ]
          },
          "metadata": {
            "tags": []
          },
          "execution_count": 82
        }
      ]
    },
    {
      "cell_type": "code",
      "metadata": {
        "id": "q1y4A2GTJWfq"
      },
      "source": [
        "ary = ['【更新】柯P：洪智坤洩漏公文案還沒看到公文　今處理',\n",
        "       '留洪智坤 柯文哲：殘障求職不易',\n",
        "       '人事處議處洪智坤　柯P：不清楚議處結果']"
      ],
      "execution_count": 83,
      "outputs": []
    },
    {
      "cell_type": "code",
      "metadata": {
        "id": "ff6vkBLwLO3c",
        "outputId": "a2b9c77d-8d64-4bf3-e95c-4f63e10433c5",
        "colab": {
          "base_uri": "https://localhost:8080/",
          "height": 34
        }
      },
      "source": [
        "s = '人事處議處洪智坤　柯P：不清楚議處結果'\n",
        "[synonym_dic.get(w, w) for w in jieba.cut(s)]"
      ],
      "execution_count": 84,
      "outputs": [
        {
          "output_type": "execute_result",
          "data": {
            "text/plain": [
              "['人事', '處議', '處', '洪智坤', '\\u3000', '柯文哲', '：', '不', '清楚', '議處', '結果']"
            ]
          },
          "metadata": {
            "tags": []
          },
          "execution_count": 84
        }
      ]
    },
    {
      "cell_type": "code",
      "metadata": {
        "id": "CH1-5ePqLRfG",
        "outputId": "81015545-c677-4c65-fe58-e1c296fd6a56",
        "colab": {
          "base_uri": "https://localhost:8080/",
          "height": 85
        }
      },
      "source": [
        "import jieba\n",
        "jieba.load_userdict('userdict.txt')\n",
        "corpus = []\n",
        "for title in ary:\n",
        "    #corpus.append(' '.join(jieba.cut(title)) )\n",
        "    corpus.append(' '.join(\\\n",
        "        [synonym_dic.get(w, w) for w in jieba.cut(title)]) )\n",
        "    \n",
        "\n",
        "vectorizer = CountVectorizer()\n",
        "X = vectorizer.fit_transform(corpus)\n",
        "print(vectorizer.get_feature_names())\n",
        "print(X.toarray())"
      ],
      "execution_count": 85,
      "outputs": [
        {
          "output_type": "stream",
          "text": [
            "['不易', '人事', '今處理', '公文', '更新', '柯文', '柯文哲', '案還', '殘障', '求職', '洩漏', '洪智坤', '清楚', '留洪智坤', '看到', '結果', '處議', '議處']\n",
            "[[0 0 1 2 1 0 1 1 0 0 1 1 0 0 1 0 0 0]\n",
            " [1 0 0 0 0 1 0 0 1 1 0 0 0 1 0 0 0 0]\n",
            " [0 1 0 0 0 0 1 0 0 0 0 1 1 0 0 1 1 1]]\n"
          ],
          "name": "stdout"
        }
      ]
    },
    {
      "cell_type": "markdown",
      "metadata": {
        "id": "nmPucdBkLW7J"
      },
      "source": [
        "# 留下白名單字詞"
      ]
    },
    {
      "cell_type": "code",
      "metadata": {
        "id": "0YZxYQrRLUgb"
      },
      "source": [
        "whilelist = ['市府', '柯文哲', '洪智坤']"
      ],
      "execution_count": 86,
      "outputs": []
    },
    {
      "cell_type": "code",
      "metadata": {
        "id": "ktWJejGfLaA2",
        "outputId": "c073cfad-fce9-450c-a752-ecf6a646dabf",
        "colab": {
          "base_uri": "https://localhost:8080/",
          "height": 85
        }
      },
      "source": [
        "import jieba\n",
        "jieba.load_userdict('userdict.txt')\n",
        "corpus = []\n",
        "for title in ary:\n",
        "    #corpus.append(' '.join(jieba.cut(title)) )\n",
        "    corpus.append(' '.join(\\\n",
        "        [synonym_dic.get(w, w) for w in jieba.cut(title) \\\n",
        "         if synonym_dic.get(w, w) in whilelist]) )\n",
        "    \n",
        "\n",
        "vectorizer = CountVectorizer()\n",
        "X = vectorizer.fit_transform(corpus)\n",
        "print(vectorizer.get_feature_names())\n",
        "print(X.toarray())"
      ],
      "execution_count": 87,
      "outputs": [
        {
          "output_type": "stream",
          "text": [
            "['柯文哲', '洪智坤']\n",
            "[[1 1]\n",
            " [0 0]\n",
            " [1 1]]\n"
          ],
          "name": "stdout"
        }
      ]
    },
    {
      "cell_type": "markdown",
      "metadata": {
        "id": "lpghukSwTqm2"
      },
      "source": [
        "# 設立停用字"
      ]
    },
    {
      "cell_type": "code",
      "metadata": {
        "id": "FIEUEuO_LbUv",
        "outputId": "30104e88-a467-4441-b5f6-91764721970e",
        "colab": {
          "base_uri": "https://localhost:8080/",
          "height": 85
        }
      },
      "source": [
        "stopwords = ['更新', '看到']\n",
        "import jieba\n",
        "jieba.load_userdict('userdict.txt')\n",
        "corpus = []\n",
        "for title in ary:\n",
        "    #corpus.append(' '.join(jieba.cut(title)) )\n",
        "    corpus.append(' '.join(\\\n",
        "        [synonym_dic.get(w, w) for w in jieba.cut(title) \\\n",
        "         if synonym_dic.get(w, w) not in stopwords]) )\n",
        "    \n",
        "\n",
        "vectorizer = CountVectorizer()\n",
        "X = vectorizer.fit_transform(corpus)\n",
        "print(vectorizer.get_feature_names())\n",
        "print(X.toarray())"
      ],
      "execution_count": 88,
      "outputs": [
        {
          "output_type": "stream",
          "text": [
            "['不易', '人事', '今處理', '公文', '柯文', '柯文哲', '案還', '殘障', '求職', '洩漏', '洪智坤', '清楚', '留洪智坤', '結果', '處議', '議處']\n",
            "[[0 0 1 2 0 1 1 0 0 1 1 0 0 0 0 0]\n",
            " [1 0 0 0 1 0 0 1 1 0 0 0 1 0 0 0]\n",
            " [0 1 0 0 0 1 0 0 0 0 1 1 0 1 1 1]]\n"
          ],
          "name": "stdout"
        }
      ]
    },
    {
      "cell_type": "markdown",
      "metadata": {
        "id": "Ty78NURuLhAz"
      },
      "source": [
        "# 計算出 TF-IDF 矩陣"
      ]
    },
    {
      "cell_type": "code",
      "metadata": {
        "id": "7bebUPl_LelM",
        "outputId": "eaa15e03-4249-46f8-bca4-daddc220bf31",
        "colab": {
          "base_uri": "https://localhost:8080/",
          "height": 187
        }
      },
      "source": [
        "from sklearn.feature_extraction.text import TfidfVectorizer\n",
        "vectorizer = TfidfVectorizer()\n",
        "X = vectorizer.fit_transform(corpus)\n",
        "print(vectorizer.get_feature_names())\n",
        "print(X.toarray())"
      ],
      "execution_count": 89,
      "outputs": [
        {
          "output_type": "stream",
          "text": [
            "['不易', '人事', '今處理', '公文', '柯文', '柯文哲', '案還', '殘障', '求職', '洩漏', '洪智坤', '清楚', '留洪智坤', '結果', '處議', '議處']\n",
            "[[0.         0.         0.35013871 0.70027741 0.         0.26628951\n",
            "  0.35013871 0.         0.         0.35013871 0.26628951 0.\n",
            "  0.         0.         0.         0.        ]\n",
            " [0.4472136  0.         0.         0.         0.4472136  0.\n",
            "  0.         0.4472136  0.4472136  0.         0.         0.\n",
            "  0.4472136  0.         0.         0.        ]\n",
            " [0.         0.40301621 0.         0.         0.         0.30650422\n",
            "  0.         0.         0.         0.         0.30650422 0.40301621\n",
            "  0.         0.40301621 0.40301621 0.40301621]]\n"
          ],
          "name": "stdout"
        }
      ]
    },
    {
      "cell_type": "markdown",
      "metadata": {
        "id": "nWCLAy50T0Fl"
      },
      "source": [
        "# 計算文章的相似程度"
      ]
    },
    {
      "cell_type": "code",
      "metadata": {
        "id": "g45w1kY8LpDI"
      },
      "source": [
        "ary = ['【更新】柯P：洪智坤洩漏公文案還沒看到公文　今處理',\n",
        "       '留洪智坤 柯文哲：殘障求職不易',\n",
        "       '人事處議處洪智坤　柯P：不清楚議處結果',\n",
        "       '台北市市政顧問洪智坤，從選前就受到柯文哲信任重用，重金請來當市政顧問之後，在市政府的角色相當吃重，每天七點半的軍機處晨會不能沒有他，現在因為洩公文案，行動不便的洪智坤還坐著輪椅到議會備詢，人事處還要議處他']"
      ],
      "execution_count": 90,
      "outputs": []
    },
    {
      "cell_type": "code",
      "metadata": {
        "id": "FErdj80eLyay",
        "outputId": "c04f4cff-2f3b-4201-a9cb-20f2a3960148",
        "colab": {
          "base_uri": "https://localhost:8080/",
          "height": 190
        }
      },
      "source": [
        "stopwords = ['更新', '看到']\n",
        "import jieba\n",
        "jieba.load_userdict('userdict.txt')\n",
        "corpus = []\n",
        "for title in ary:\n",
        "    #corpus.append(' '.join(jieba.cut(title)) )\n",
        "    corpus.append(' '.join(\\\n",
        "        [synonym_dic.get(w, w) for w in jieba.cut(title) \\\n",
        "         if synonym_dic.get(w, w) not in stopwords]) )\n",
        "    \n",
        "vectorizer = CountVectorizer()\n",
        "X = vectorizer.fit_transform(corpus)\n",
        "print(vectorizer.get_feature_names())\n",
        "print(X.toarray())"
      ],
      "execution_count": 91,
      "outputs": [
        {
          "output_type": "stream",
          "text": [
            "['七點', '不便', '不易', '不能', '人事', '今處理', '信任', '備詢', '公文', '受到', '台北市', '因為', '市政', '市政府', '柯文', '柯文哲', '案還', '椅到', '殘障', '每天', '求職', '沒有', '洩漏', '洪智坤', '清楚', '現在', '留洪智坤', '相當', '結果', '著輪', '處晨會', '處議', '行動', '角色', '請來當', '議會', '議處', '軍機', '選前', '還坐', '還要', '重用', '重金', '顧問']\n",
            "[[0 0 0 0 0 1 0 0 2 0 0 0 0 0 0 1 1 0 0 0 0 0 1 1 0 0 0 0 0 0 0 0 0 0 0 0\n",
            "  0 0 0 0 0 0 0 0]\n",
            " [0 0 1 0 0 0 0 0 0 0 0 0 0 0 1 0 0 0 1 0 1 0 0 0 0 0 1 0 0 0 0 0 0 0 0 0\n",
            "  0 0 0 0 0 0 0 0]\n",
            " [0 0 0 0 1 0 0 0 0 0 0 0 0 0 0 1 0 0 0 0 0 0 0 1 1 0 0 0 1 0 0 1 0 0 0 0\n",
            "  1 0 0 0 0 0 0 0]\n",
            " [1 1 0 1 1 0 1 1 1 1 1 1 2 1 1 0 0 1 0 1 0 1 0 2 0 1 0 1 0 1 1 0 1 1 1 1\n",
            "  1 1 1 1 1 1 1 2]]\n"
          ],
          "name": "stdout"
        }
      ]
    },
    {
      "cell_type": "code",
      "metadata": {
        "id": "q-oL9QjPL08K",
        "outputId": "5e32ef04-167f-470c-ee7a-3a437ce17a64",
        "colab": {
          "base_uri": "https://localhost:8080/",
          "height": 85
        }
      },
      "source": [
        "from sklearn.metrics.pairwise import euclidean_distances\n",
        "euclidean_distances(X)"
      ],
      "execution_count": 92,
      "outputs": [
        {
          "output_type": "execute_result",
          "data": {
            "text/plain": [
              "array([[0.        , 3.74165739, 3.46410162, 6.55743852],\n",
              "       [3.74165739, 0.        , 3.46410162, 6.70820393],\n",
              "       [3.46410162, 3.46410162, 0.        , 6.40312424],\n",
              "       [6.55743852, 6.70820393, 6.40312424, 0.        ]])"
            ]
          },
          "metadata": {
            "tags": []
          },
          "execution_count": 92
        }
      ]
    },
    {
      "cell_type": "code",
      "metadata": {
        "id": "zTc984PyL65X",
        "outputId": "0ae99e2c-8309-47e4-c1fe-ac3b1f11e300",
        "colab": {
          "base_uri": "https://localhost:8080/",
          "height": 34
        }
      },
      "source": [
        "import numpy as np\n",
        "import math\n",
        "a = np.array([1,1,1,0,0,1])\n",
        "b = np.array([1,1,0,0,1,1])\n",
        "math.sqrt(sum((a - b) ** 2))"
      ],
      "execution_count": 93,
      "outputs": [
        {
          "output_type": "execute_result",
          "data": {
            "text/plain": [
              "1.4142135623730951"
            ]
          },
          "metadata": {
            "tags": []
          },
          "execution_count": 93
        }
      ]
    },
    {
      "cell_type": "markdown",
      "metadata": {
        "id": "yaq1ExqfL_ZI"
      },
      "source": [
        "# 計算Cosine相似度"
      ]
    },
    {
      "cell_type": "code",
      "metadata": {
        "id": "FgXCsDqdUdDn"
      },
      "source": [
        "from sklearn.metrics.pairwise import cosine_similarity\n",
        "cs = cosine_similarity(X)"
      ],
      "execution_count": 94,
      "outputs": []
    },
    {
      "cell_type": "markdown",
      "metadata": {
        "id": "N4-C6teUUNV7"
      },
      "source": [
        "# 建立新聞推薦器(根據內容相似程度)"
      ]
    },
    {
      "cell_type": "code",
      "metadata": {
        "id": "lRM1o0XlL8v6"
      },
      "source": [
        "import pandas\n",
        "news = pandas.read_excel('/content/news.xlsx')"
      ],
      "execution_count": 95,
      "outputs": []
    },
    {
      "cell_type": "code",
      "metadata": {
        "id": "kYkDhjEfMai4",
        "outputId": "6a3b91b2-2c24-4322-e45c-0f4967ef6d83",
        "colab": {
          "base_uri": "https://localhost:8080/",
          "height": 546
        }
      },
      "source": [
        "news.head(10)"
      ],
      "execution_count": 96,
      "outputs": [
        {
          "output_type": "execute_result",
          "data": {
            "text/html": [
              "<div>\n",
              "<style scoped>\n",
              "    .dataframe tbody tr th:only-of-type {\n",
              "        vertical-align: middle;\n",
              "    }\n",
              "\n",
              "    .dataframe tbody tr th {\n",
              "        vertical-align: top;\n",
              "    }\n",
              "\n",
              "    .dataframe thead th {\n",
              "        text-align: right;\n",
              "    }\n",
              "</style>\n",
              "<table border=\"1\" class=\"dataframe\">\n",
              "  <thead>\n",
              "    <tr style=\"text-align: right;\">\n",
              "      <th></th>\n",
              "      <th>Unnamed: 0</th>\n",
              "      <th>category</th>\n",
              "      <th>clicked</th>\n",
              "      <th>content</th>\n",
              "      <th>time</th>\n",
              "      <th>title</th>\n",
              "    </tr>\n",
              "  </thead>\n",
              "  <tbody>\n",
              "    <tr>\n",
              "      <th>0</th>\n",
              "      <td>0</td>\n",
              "      <td>娛樂</td>\n",
              "      <td>0</td>\n",
              "      <td>衛視電影台舉辦《目擊者》全台首播媒體記者會，2位女主角許瑋甯及柯佳嬿今出席活動，許瑋甯以《紅...</td>\n",
              "      <td>2017年10月02日14:42</td>\n",
              "      <td>「鬼附身」入圍女配！許瑋甯開心到爆炸　柯佳嬿微鬱卒</td>\n",
              "    </tr>\n",
              "    <tr>\n",
              "      <th>1</th>\n",
              "      <td>1</td>\n",
              "      <td>財經</td>\n",
              "      <td>0</td>\n",
              "      <td>台積電（2330）10月將歡慶創立30周年，有「半導體教父」之稱的台積電董事長張忠謀在公司3...</td>\n",
              "      <td>2017年10月02日14:38</td>\n",
              "      <td>半導體教父張忠謀　用30年打造台灣的驕傲</td>\n",
              "    </tr>\n",
              "    <tr>\n",
              "      <th>2</th>\n",
              "      <td>2</td>\n",
              "      <td>國際</td>\n",
              "      <td>人氣(47166)</td>\n",
              "      <td>多年堅持獨立的西班牙北部加泰隆尼亞自治區（Catalonia）周日（1日）舉行全球關注的獨立...</td>\n",
              "      <td>2017年10月02日14:37</td>\n",
              "      <td>【不斷更新】彭博：就在周五　加泰隆尼亞可能宣布獨立</td>\n",
              "    </tr>\n",
              "    <tr>\n",
              "      <th>3</th>\n",
              "      <td>3</td>\n",
              "      <td>娛樂</td>\n",
              "      <td>0</td>\n",
              "      <td>美國實境節目女星凱莉傑納（Kylie Jenner）上月底傳出懷孕喜訊，20歲的她自創美妝品...</td>\n",
              "      <td>2017年10月02日14:36</td>\n",
              "      <td>好野人！豐臀金么妹走「孕」　砸210萬買童裝</td>\n",
              "    </tr>\n",
              "    <tr>\n",
              "      <th>4</th>\n",
              "      <td>4</td>\n",
              "      <td>社會</td>\n",
              "      <td>人氣(53741)</td>\n",
              "      <td>​（更新：新增動新聞）新北市板橋分局警方今天破獲黑幫不法集團，逮捕以竹聯幫雷堂房姓副堂主〈2...</td>\n",
              "      <td>2017年10月02日14:35</td>\n",
              "      <td>【有片】網紅主播是竹聯大哥妻　因通緝和副堂主夫一併送辦</td>\n",
              "    </tr>\n",
              "    <tr>\n",
              "      <th>5</th>\n",
              "      <td>5</td>\n",
              "      <td>政治</td>\n",
              "      <td>0</td>\n",
              "      <td>第24屆海洋使徒世界大會，今天起至10月6日連5天在高雄舉行。海洋使徒世界大會是由教廷促進整...</td>\n",
              "      <td>2017年10月02日14:35</td>\n",
              "      <td>台灣首辦海洋使徒世界大會　高雄今開幕</td>\n",
              "    </tr>\n",
              "    <tr>\n",
              "      <th>6</th>\n",
              "      <td>6</td>\n",
              "      <td>社會</td>\n",
              "      <td>人氣(3)</td>\n",
              "      <td>搶救台灣希望聯盟（簡稱救台盟）今年初在臉書粉絲團PO出多名小孩舉牌反對校方教導同志性教育的照...</td>\n",
              "      <td>2017年10月02日14:34</td>\n",
              "      <td>批救台盟教小孩說謊　2網紅挨告誹謗結果…</td>\n",
              "    </tr>\n",
              "    <tr>\n",
              "      <th>7</th>\n",
              "      <td>7</td>\n",
              "      <td>地產</td>\n",
              "      <td>0</td>\n",
              "      <td>刺激買氣，房仲業者祭出多樣花招！2017下半年民眾購屋信心明顯回升，交易量也跟著受到牽引，農...</td>\n",
              "      <td>2017年10月02日14:34</td>\n",
              "      <td>刺激第4季買氣　房仲豁出去要抽iPad</td>\n",
              "    </tr>\n",
              "    <tr>\n",
              "      <th>8</th>\n",
              "      <td>8</td>\n",
              "      <td>體育</td>\n",
              "      <td>人氣(7295)</td>\n",
              "      <td>(新增影片)美國職棒季後賽將從台灣時間後天(4日)開打，率先登場的是美國聯盟外卡賽，由洋基與...</td>\n",
              "      <td>2017年10月02日14:33</td>\n",
              "      <td>【有片】外卡驟死賽　洋基推新秀對決雙城老將</td>\n",
              "    </tr>\n",
              "    <tr>\n",
              "      <th>9</th>\n",
              "      <td>9</td>\n",
              "      <td>社會</td>\n",
              "      <td>人氣(6)</td>\n",
              "      <td>真的好心過度也很麻煩！新竹市環保局顏姓清潔隊員，是資源回收車駕駛，他在執行資源回收工作時，因...</td>\n",
              "      <td>2017年10月02日14:33</td>\n",
              "      <td>好心送回收物給老婦賣錢　2清潔隊員遭判刑</td>\n",
              "    </tr>\n",
              "  </tbody>\n",
              "</table>\n",
              "</div>"
            ],
            "text/plain": [
              "   Unnamed: 0 category  ...              time                        title\n",
              "0           0       娛樂  ...  2017年10月02日14:42   「鬼附身」入圍女配！許瑋甯開心到爆炸　柯佳嬿微鬱卒 \n",
              "1           1       財經  ...  2017年10月02日14:38         半導體教父張忠謀　用30年打造台灣的驕傲\n",
              "2           2       國際  ...  2017年10月02日14:37    【不斷更新】彭博：就在周五　加泰隆尼亞可能宣布獨立\n",
              "3           3       娛樂  ...  2017年10月02日14:36       好野人！豐臀金么妹走「孕」　砸210萬買童裝\n",
              "4           4       社會  ...  2017年10月02日14:35  【有片】網紅主播是竹聯大哥妻　因通緝和副堂主夫一併送辦\n",
              "5           5       政治  ...  2017年10月02日14:35           台灣首辦海洋使徒世界大會　高雄今開幕\n",
              "6           6       社會  ...  2017年10月02日14:34         批救台盟教小孩說謊　2網紅挨告誹謗結果…\n",
              "7           7       地產  ...  2017年10月02日14:34          刺激第4季買氣　房仲豁出去要抽iPad\n",
              "8           8       體育  ...  2017年10月02日14:33        【有片】外卡驟死賽　洋基推新秀對決雙城老將\n",
              "9           9       社會  ...  2017年10月02日14:33         好心送回收物給老婦賣錢　2清潔隊員遭判刑\n",
              "\n",
              "[10 rows x 6 columns]"
            ]
          },
          "metadata": {
            "tags": []
          },
          "execution_count": 96
        }
      ]
    },
    {
      "cell_type": "code",
      "metadata": {
        "id": "TojOd2KHMsxW"
      },
      "source": [
        "corpus = []\n",
        "titles = []\n",
        "for article in news.iterrows():\n",
        "    corpus.append(' '.join(jieba.cut(article[1]['content'])))\n",
        "    titles.append(article[1]['title'])\n",
        "    #print(article[1]['title'])"
      ],
      "execution_count": 97,
      "outputs": []
    },
    {
      "cell_type": "code",
      "metadata": {
        "id": "bq8iOuYrOpjg"
      },
      "source": [
        "#corpus[1]"
      ],
      "execution_count": 98,
      "outputs": []
    },
    {
      "cell_type": "code",
      "metadata": {
        "id": "J2_nYvh9OrQh",
        "outputId": "8fa64cb8-12a6-4ac8-e62c-01bef3834307",
        "colab": {
          "base_uri": "https://localhost:8080/",
          "height": 51
        }
      },
      "source": [
        "vectorizer = CountVectorizer()\n",
        "X = vectorizer.fit_transform(corpus)\n",
        "X"
      ],
      "execution_count": 99,
      "outputs": [
        {
          "output_type": "execute_result",
          "data": {
            "text/plain": [
              "<30x3231 sparse matrix of type '<class 'numpy.int64'>'\n",
              "\twith 4140 stored elements in Compressed Sparse Row format>"
            ]
          },
          "metadata": {
            "tags": []
          },
          "execution_count": 99
        }
      ]
    },
    {
      "cell_type": "code",
      "metadata": {
        "id": "wfEcfvIEOsvn"
      },
      "source": [
        "from sklearn.metrics.pairwise import cosine_similarity\n",
        "cs = cosine_similarity(X)"
      ],
      "execution_count": 100,
      "outputs": []
    },
    {
      "cell_type": "code",
      "metadata": {
        "id": "FkDwMbCyOwSV",
        "outputId": "e1804104-a18d-4fad-a7e7-023ee2ccc17c",
        "colab": {
          "base_uri": "https://localhost:8080/",
          "height": 34
        }
      },
      "source": [
        "cs.shape"
      ],
      "execution_count": 101,
      "outputs": [
        {
          "output_type": "execute_result",
          "data": {
            "text/plain": [
              "(30, 30)"
            ]
          },
          "metadata": {
            "tags": []
          },
          "execution_count": 101
        }
      ]
    },
    {
      "cell_type": "code",
      "metadata": {
        "id": "idWD5Rm4Oyiq",
        "outputId": "18e669d7-cc26-47be-96d1-a17738102ad4",
        "colab": {
          "base_uri": "https://localhost:8080/",
          "height": 1000
        }
      },
      "source": [
        "cs"
      ],
      "execution_count": 102,
      "outputs": [
        {
          "output_type": "execute_result",
          "data": {
            "text/plain": [
              "array([[1.        , 0.03578458, 0.02206744, 0.02366243, 0.02479779,\n",
              "        0.03711632, 0.06421348, 0.07208441, 0.03045552, 0.02731343,\n",
              "        0.01075331, 0.02562264, 0.01274428, 0.01938159, 0.00897737,\n",
              "        0.02848501, 0.01704305, 0.02452985, 0.02140347, 0.02299154,\n",
              "        0.0326164 , 0.02720396, 0.04035877, 0.        , 0.02198997,\n",
              "        0.03335419, 0.01421242, 0.04347065, 0.0087519 , 0.02281121],\n",
              "       [0.03578458, 1.        , 0.04513581, 0.04285857, 0.02566572,\n",
              "        0.08003207, 0.0415381 , 0.0200866 , 0.05178526, 0.01837511,\n",
              "        0.03338903, 0.10418348, 0.02308308, 0.01404196, 0.02322894,\n",
              "        0.01965466, 0.03527911, 0.03300492, 0.03138284, 0.02082172,\n",
              "        0.05677478, 0.09150733, 0.01566425, 0.0720633 , 0.01593174,\n",
              "        0.12514074, 0.02206479, 0.06998775, 0.02113584, 0.00393493],\n",
              "       [0.02206744, 0.04513581, 1.        , 0.02454196, 0.08377216,\n",
              "        0.04155116, 0.02156581, 0.04272216, 0.03953815, 0.01079188,\n",
              "        0.05735833, 0.04194154, 0.03650682, 0.03446058, 0.01418828,\n",
              "        0.13787103, 0.0126261 , 0.03101455, 0.00845678, 0.05109886,\n",
              "        0.04451922, 0.04836879, 0.04584546, 0.01834016, 0.03388519,\n",
              "        0.01400232, 0.04585995, 0.05820685, 0.02996919, 0.01351949],\n",
              "       [0.02366243, 0.04285857, 0.02454196, 1.        , 0.01930493,\n",
              "        0.02063916, 0.0142828 , 0.01233347, 0.04354793, 0.01215048,\n",
              "        0.02391824, 0.03256664, 0.04960673, 0.00862197, 0.00998404,\n",
              "        0.07919786, 0.02369269, 0.03819268, 0.02777078, 0.01278484,\n",
              "        0.0164881 , 0.03025445, 0.02805273, 0.0290377 , 0.01956464,\n",
              "        0.01391037, 0.01580612, 0.04834519, 0.02595543, 0.0338255 ],\n",
              "       [0.02479779, 0.02566572, 0.08377216, 0.01930493, 1.        ,\n",
              "        0.00576786, 0.02095536, 0.0310206 , 0.03042496, 0.02674031,\n",
              "        0.12031625, 0.03412925, 0.0178241 , 0.02710701, 0.01674095,\n",
              "        0.09295767, 0.01589089, 0.00914862, 0.02328262, 0.05627277,\n",
              "        0.03594079, 0.03170611, 0.0188152 , 0.00540995, 0.02255373,\n",
              "        0.00777484, 0.08392694, 0.03602836, 0.00816024, 0.0070897 ],\n",
              "       [0.03711632, 0.08003207, 0.04155116, 0.02063916, 0.00576786,\n",
              "        1.        , 0.0261376 , 0.03224331, 0.01011974, 0.01588246,\n",
              "        0.02501173, 0.02554163, 0.01482132, 0.03155651, 0.01044048,\n",
              "        0.01104248, 0.01982069, 0.02852768, 0.00829726, 0.03342333,\n",
              "        0.04138054, 0.03163761, 0.04693636, 0.03036523, 0.00511477,\n",
              "        0.00969755, 0.01652874, 0.03932088, 0.01696378, 0.00884298],\n",
              "       [0.06421348, 0.0415381 , 0.02156581, 0.0142828 , 0.02095536,\n",
              "        0.0261376 , 1.        , 0.05355155, 0.02888781, 0.02967583,\n",
              "        0.0227177 , 0.03314142, 0.02307761, 0.00701932, 0.0054188 ,\n",
              "        0.01719374, 0.04372102, 0.03553532, 0.06244318, 0.04163355,\n",
              "        0.02505679, 0.10262809, 0.02131572, 0.01050674, 0.00796398,\n",
              "        0.01006641, 0.01429786, 0.09037939, 0.04226164, 0.02294834],\n",
              "       [0.07208441, 0.0200866 , 0.04272216, 0.01233347, 0.0310206 ,\n",
              "        0.03224331, 0.05355155, 1.        , 0.00907097, 0.02847293,\n",
              "        0.01681471, 0.04578919, 0.0265706 , 0.02828612, 0.02339618,\n",
              "        0.03959232, 0.01332491, 0.04602813, 0.04090548, 0.02396757,\n",
              "        0.02472801, 0.02835881, 0.03681305, 0.01512128, 0.01833879,\n",
              "        0.01738506, 0.0395087 , 0.07049163, 0.02432915, 0.00792653],\n",
              "       [0.03045552, 0.05178526, 0.03953815, 0.04354793, 0.03042496,\n",
              "        0.01011974, 0.02888781, 0.00907097, 1.        , 0.00670229,\n",
              "        0.03078477, 0.04490998, 0.01563624, 0.00634125, 0.01101453,\n",
              "        0.04271531, 0.0383359 , 0.01203849, 0.00583564, 0.07992503,\n",
              "        0.04123045, 0.04450286, 0.02475854, 0.03084833, 0.01438933,\n",
              "        0.0204615 , 0.02325005, 0.03950749, 0.0190896 , 0.01865839],\n",
              "       [0.02731343, 0.01837511, 0.01079188, 0.01215048, 0.02674031,\n",
              "        0.01588246, 0.02967583, 0.02847293, 0.00670229, 1.        ,\n",
              "        0.02208698, 0.01503661, 0.01636024, 0.00398092, 0.00921963,\n",
              "        0.01218903, 0.02625443, 0.02771097, 0.03297157, 0.02361197,\n",
              "        0.00913543, 0.01746129, 0.00777147, 0.03724232, 0.00225834,\n",
              "        0.01712713, 0.01702861, 0.00744062, 0.02396819, 0.00390446],\n",
              "       [0.01075331, 0.03338903, 0.05735833, 0.02391824, 0.12031625,\n",
              "        0.02501173, 0.0227177 , 0.01681471, 0.03078477, 0.02208698,\n",
              "        1.        , 0.03329955, 0.02576413, 0.00391823, 0.03176049,\n",
              "        0.06718358, 0.0172273 , 0.03967208, 0.00721162, 0.02324011,\n",
              "        0.02697466, 0.00687452, 0.02039755, 0.01759478, 0.00444554,\n",
              "        0.02528609, 0.10056253, 0.03905833, 0.02064187, 0.01537189],\n",
              "       [0.02562264, 0.10418348, 0.04194154, 0.03256664, 0.03412925,\n",
              "        0.02554163, 0.03314142, 0.04578919, 0.04490998, 0.01503661,\n",
              "        0.03329955, 1.        , 0.04384995, 0.02133994, 0.01544446,\n",
              "        0.02940297, 0.02052433, 0.03376048, 0.03682204, 0.05933119,\n",
              "        0.06733502, 0.0608414 , 0.01735808, 0.03992788, 0.02723836,\n",
              "        0.00860727, 0.01956058, 0.06647637, 0.02208297, 0.00523252],\n",
              "       [0.01274428, 0.02308308, 0.03650682, 0.04960673, 0.0178241 ,\n",
              "        0.01482132, 0.02307761, 0.0265706 , 0.01563624, 0.01636024,\n",
              "        0.02576413, 0.04384995, 1.        , 0.00928737, 0.02688638,\n",
              "        0.12512124, 0.0306254 , 0.01763151, 0.02991398, 0.02065726,\n",
              "        0.01065634, 0.06517866, 0.02417415, 0.        , 0.02107453,\n",
              "        0.01997853, 0.04540254, 0.05207622, 0.01397926, 0.02732698],\n",
              "       [0.01938159, 0.01404196, 0.03446058, 0.00862197, 0.02710701,\n",
              "        0.03155651, 0.00701932, 0.02828612, 0.00634125, 0.00398092,\n",
              "        0.00391823, 0.02133994, 0.00928737, 1.        , 0.03598231,\n",
              "        0.01729866, 0.00931506, 0.02502651, 0.01299811, 0.02932132,\n",
              "        0.01944747, 0.02478104, 0.0183821 , 0.01479919, 0.03846035,\n",
              "        0.0060767 , 0.00345242, 0.04223886, 0.05102342, 0.00554121],\n",
              "       [0.00897737, 0.02322894, 0.01418828, 0.00998404, 0.01674095,\n",
              "        0.01044048, 0.0054188 , 0.02339618, 0.01101453, 0.00921963,\n",
              "        0.03176049, 0.01544446, 0.02688638, 0.03598231, 1.        ,\n",
              "        0.02403772, 0.02876433, 0.02070007, 0.0060206 , 0.01455145,\n",
              "        0.01501314, 0.02295668, 0.01702883, 0.00979263, 0.07422696,\n",
              "        0.00703667, 0.02798478, 0.09374723, 0.02215647, 0.01283318],\n",
              "       [0.02848501, 0.01965466, 0.13787103, 0.07919786, 0.09295767,\n",
              "        0.01104248, 0.01719374, 0.03959232, 0.04271531, 0.01218903,\n",
              "        0.06718358, 0.02940297, 0.12512124, 0.01729866, 0.02403772,\n",
              "        1.        , 0.03422573, 0.048166  , 0.02865487, 0.08721275,\n",
              "        0.01058586, 0.09105134, 0.02701607, 0.03107182, 0.05102946,\n",
              "        0.01488481, 0.11416516, 0.05173183, 0.01041511, 0.02714626],\n",
              "       [0.01704305, 0.03527911, 0.0126261 , 0.02369269, 0.01589089,\n",
              "        0.01982069, 0.04372102, 0.01332491, 0.0383359 , 0.02625443,\n",
              "        0.0172273 , 0.02052433, 0.0306254 , 0.00931506, 0.02876433,\n",
              "        0.03422573, 1.        , 0.01571919, 0.00571489, 0.05525028,\n",
              "        0.04275245, 0.04358201, 0.03232831, 0.00232385, 0.01409158,\n",
              "        0.02337779, 0.01897414, 0.06190401, 0.00701047, 0.01218154],\n",
              "       [0.02452985, 0.03300492, 0.03101455, 0.03819268, 0.00914862,\n",
              "        0.02852768, 0.03553532, 0.04602813, 0.01203849, 0.02771097,\n",
              "        0.03967208, 0.03376048, 0.01763151, 0.02502651, 0.02070007,\n",
              "        0.048166  , 0.01571919, 1.        , 0.05593255, 0.03180843,\n",
              "        0.02734804, 0.03763624, 0.00930595, 0.00802725, 0.03245096,\n",
              "        0.00769083, 0.03058636, 0.04009396, 0.04843244, 0.0070131 ],\n",
              "       [0.02140347, 0.03138284, 0.00845678, 0.02777078, 0.02328262,\n",
              "        0.00829726, 0.06244318, 0.04090548, 0.00583564, 0.03297157,\n",
              "        0.00721162, 0.03682204, 0.02991398, 0.01299811, 0.0060206 ,\n",
              "        0.02865487, 0.00571489, 0.05593255, 1.        , 0.01927387,\n",
              "        0.01391977, 0.02280515, 0.01691643, 0.0038912 , 0.0147474 ,\n",
              "        0.01398045, 0.00317715, 0.03563175, 0.0215211 , 0.01019877],\n",
              "       [0.02299154, 0.02082172, 0.05109886, 0.01278484, 0.05627277,\n",
              "        0.03342333, 0.04163355, 0.02396757, 0.07992503, 0.02361197,\n",
              "        0.02324011, 0.05933119, 0.02065726, 0.02932132, 0.01455145,\n",
              "        0.08721275, 0.05525028, 0.03180843, 0.01927387, 1.        ,\n",
              "        0.03204124, 0.25722086, 0.01090295, 0.02194454, 0.01900994,\n",
              "        0.00901065, 0.01023865, 0.11482655, 0.01576221, 0.00821662],\n",
              "       [0.0326164 , 0.05677478, 0.04451922, 0.0164881 , 0.03594079,\n",
              "        0.04138054, 0.02505679, 0.02472801, 0.04123045, 0.00913543,\n",
              "        0.02697466, 0.06733502, 0.01065634, 0.01944747, 0.01501314,\n",
              "        0.01058586, 0.04275245, 0.02734804, 0.01391977, 0.03204124,\n",
              "        1.        , 0.03791171, 0.0590566 , 0.0177892 , 0.02451636,\n",
              "        0.00929655, 0.01320438, 0.0538499 , 0.00813116, 0.01695463],\n",
              "       [0.02720396, 0.09150733, 0.04836879, 0.03025445, 0.03170611,\n",
              "        0.03163761, 0.10262809, 0.02835881, 0.04450286, 0.01746129,\n",
              "        0.00687452, 0.0608414 , 0.06517866, 0.02478104, 0.02295668,\n",
              "        0.09105134, 0.04358201, 0.03763624, 0.02280515, 0.25722086,\n",
              "        0.03791171, 1.        , 0.02580108, 0.01483722, 0.02249286,\n",
              "        0.01599233, 0.00605727, 0.10498629, 0.02984015, 0.0291661 ],\n",
              "       [0.04035877, 0.01566425, 0.04584546, 0.02805273, 0.0188152 ,\n",
              "        0.04693636, 0.02131572, 0.03681305, 0.02475854, 0.00777147,\n",
              "        0.02039755, 0.01735808, 0.02417415, 0.0183821 , 0.01702883,\n",
              "        0.02701607, 0.03232831, 0.00930595, 0.01691643, 0.01090295,\n",
              "        0.0590566 , 0.02580108, 1.        , 0.00550298, 0.05005434,\n",
              "        0.00395427, 0.01797267, 0.04580991, 0.01383429, 0.01442324],\n",
              "       [0.        , 0.0720633 , 0.01834016, 0.0290377 , 0.00540995,\n",
              "        0.03036523, 0.01050674, 0.01512128, 0.03084833, 0.03724232,\n",
              "        0.01759478, 0.03992788, 0.        , 0.01479919, 0.00979263,\n",
              "        0.03107182, 0.00232385, 0.00802725, 0.0038912 , 0.02194454,\n",
              "        0.0177892 , 0.01483722, 0.00550298, 1.        , 0.01439217,\n",
              "        0.0090958 , 0.0103354 , 0.02107483, 0.06046235, 0.02073565],\n",
              "       [0.02198997, 0.01593174, 0.03388519, 0.01956464, 0.02255373,\n",
              "        0.00511477, 0.00796398, 0.01833879, 0.01438933, 0.00225834,\n",
              "        0.00444554, 0.02723836, 0.02107453, 0.03846035, 0.07422696,\n",
              "        0.05102946, 0.01409158, 0.03245096, 0.0147474 , 0.01900994,\n",
              "        0.02451636, 0.02249286, 0.05005434, 0.01439217, 1.        ,\n",
              "        0.00344725, 0.01958527, 0.07188508, 0.01688464, 0.01257389],\n",
              "       [0.03335419, 0.12514074, 0.01400232, 0.01391037, 0.00777484,\n",
              "        0.00969755, 0.01006641, 0.01738506, 0.0204615 , 0.01712713,\n",
              "        0.02528609, 0.00860727, 0.01997853, 0.0060767 , 0.00703667,\n",
              "        0.01488481, 0.02337779, 0.00769083, 0.01398045, 0.00901065,\n",
              "        0.00929655, 0.01599233, 0.00395427, 0.0090958 , 0.00344725,\n",
              "        1.        , 0.01114003, 0.0151437 , 0.01371989, 0.01787996],\n",
              "       [0.01421242, 0.02206479, 0.04585995, 0.01580612, 0.08392694,\n",
              "        0.01652874, 0.01429786, 0.0395087 , 0.02325005, 0.01702861,\n",
              "        0.10056253, 0.01956058, 0.04540254, 0.00345242, 0.02798478,\n",
              "        0.11416516, 0.01897414, 0.03058636, 0.00317715, 0.01023865,\n",
              "        0.01320438, 0.00605727, 0.01797267, 0.0103354 , 0.01958527,\n",
              "        0.01114003, 1.        , 0.02581129, 0.01818795, 0.0203167 ],\n",
              "       [0.04347065, 0.06998775, 0.05820685, 0.04834519, 0.03602836,\n",
              "        0.03932088, 0.09037939, 0.07049163, 0.03950749, 0.00744062,\n",
              "        0.03905833, 0.06647637, 0.05207622, 0.04223886, 0.09374723,\n",
              "        0.05173183, 0.06190401, 0.04009396, 0.03563175, 0.11482655,\n",
              "        0.0538499 , 0.10498629, 0.04580991, 0.02107483, 0.07188508,\n",
              "        0.0151437 , 0.02581129, 1.        , 0.02384158, 0.02761841],\n",
              "       [0.0087519 , 0.02113584, 0.02996919, 0.02595543, 0.00816024,\n",
              "        0.01696378, 0.04226164, 0.02432915, 0.0190896 , 0.02396819,\n",
              "        0.02064187, 0.02208297, 0.01397926, 0.05102342, 0.02215647,\n",
              "        0.01041511, 0.00701047, 0.04843244, 0.0215211 , 0.01576221,\n",
              "        0.00813116, 0.02984015, 0.01383429, 0.06046235, 0.01688464,\n",
              "        0.01371989, 0.01818795, 0.02384158, 1.        , 0.00834058],\n",
              "       [0.02281121, 0.00393493, 0.01351949, 0.0338255 , 0.0070897 ,\n",
              "        0.00884298, 0.02294834, 0.00792653, 0.01865839, 0.00390446,\n",
              "        0.01537189, 0.00523252, 0.02732698, 0.00554121, 0.01283318,\n",
              "        0.02714626, 0.01218154, 0.0070131 , 0.01019877, 0.00821662,\n",
              "        0.01695463, 0.0291661 , 0.01442324, 0.02073565, 0.01257389,\n",
              "        0.01787996, 0.0203167 , 0.02761841, 0.00834058, 1.        ]])"
            ]
          },
          "metadata": {
            "tags": []
          },
          "execution_count": 102
        }
      ]
    },
    {
      "cell_type": "code",
      "metadata": {
        "id": "zbY9j7yRO1Xt",
        "outputId": "785b58e4-1d25-4d02-ebd7-3531b725d0af",
        "colab": {
          "base_uri": "https://localhost:8080/",
          "height": 35
        }
      },
      "source": [
        "titles[6]"
      ],
      "execution_count": 103,
      "outputs": [
        {
          "output_type": "execute_result",
          "data": {
            "application/vnd.google.colaboratory.intrinsic+json": {
              "type": "string"
            },
            "text/plain": [
              "'批救台盟教小孩說謊\\u30002網紅挨告誹謗結果…'"
            ]
          },
          "metadata": {
            "tags": []
          },
          "execution_count": 103
        }
      ]
    },
    {
      "cell_type": "code",
      "metadata": {
        "id": "e3T5p5ZHO3h4",
        "outputId": "5102347e-814a-4e61-d6c7-fdbb9568a643",
        "colab": {
          "base_uri": "https://localhost:8080/",
          "height": 34
        }
      },
      "source": [
        "## argsort\n",
        "a = np.array([2,7,4,8,9,5])\n",
        "a.argsort()[::-1]"
      ],
      "execution_count": 104,
      "outputs": [
        {
          "output_type": "execute_result",
          "data": {
            "text/plain": [
              "array([4, 3, 1, 5, 2, 0])"
            ]
          },
          "metadata": {
            "tags": []
          },
          "execution_count": 104
        }
      ]
    },
    {
      "cell_type": "code",
      "metadata": {
        "id": "zGTcXhVFO7FX"
      },
      "source": [
        "for pos in cs[6].argsort()[::-1][1:10]:\n",
        "    if cs[6][pos] >= 0.2:\n",
        "        print(titles[pos],cs[6][pos])"
      ],
      "execution_count": 105,
      "outputs": []
    },
    {
      "cell_type": "code",
      "metadata": {
        "id": "hHIoCQwMO9VM"
      },
      "source": [
        "def getSimiliarArticle(articleid):\n",
        "    print('查詢文章:', titles[articleid])\n",
        "    for pos in cs[articleid].argsort()[::-1][1:]:\n",
        "        if cs[articleid][pos] >= 0.2:\n",
        "            print('相關文章: ',titles[pos],cs[articleid][pos])"
      ],
      "execution_count": 106,
      "outputs": []
    },
    {
      "cell_type": "code",
      "metadata": {
        "id": "3MAU6CgUPHLk",
        "outputId": "a857326f-24f2-4b80-befc-1b0d25f44236",
        "colab": {
          "base_uri": "https://localhost:8080/",
          "height": 34
        }
      },
      "source": [
        "getSimiliarArticle(17)"
      ],
      "execution_count": 107,
      "outputs": [
        {
          "output_type": "stream",
          "text": [
            "查詢文章: udn售票網休克！陳綺貞粉絲今晚6點重新搶票\n"
          ],
          "name": "stdout"
        }
      ]
    },
    {
      "cell_type": "code",
      "metadata": {
        "id": "BaE26Y4NPIvo",
        "outputId": "d6d96bba-6d22-41a5-b702-c1b035433e61",
        "colab": {
          "base_uri": "https://localhost:8080/",
          "height": 34
        }
      },
      "source": [
        "getSimiliarArticle(16)"
      ],
      "execution_count": 108,
      "outputs": [
        {
          "output_type": "stream",
          "text": [
            "查詢文章: 她挺鄭捷護胖妹　被院長拍桌罵造反\n"
          ],
          "name": "stdout"
        }
      ]
    },
    {
      "cell_type": "code",
      "metadata": {
        "id": "XOy8eeLEPPvW"
      },
      "source": [
        ""
      ],
      "execution_count": 108,
      "outputs": []
    }
  ]
}